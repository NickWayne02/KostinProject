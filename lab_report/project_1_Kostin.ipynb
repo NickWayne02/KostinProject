{
 "cells": [
  {
   "cell_type": "markdown",
   "source": [
    "#### 16.05.23, &copy; [Evhenii Kostin](https://www.linkedin.com/in/%D0%B5%D0%B2%D0%B3%D0%B5%D0%BD%D0%B8%D0%B9-%D0%BA%D0%BE%D1%81%D1%82%D0%B8%D0%BD-8287b0264/), 2023"
   ],
   "metadata": {
    "cell_id": "bc1f096fdae3477b911acabf09920c22",
    "deepnote_cell_type": "markdown"
   }
  },
  {
   "cell_type": "markdown",
   "source": [
    "# Фінальний проект І"
   ],
   "metadata": {
    "cell_id": "f10b798e28dd4093a02c6484b5ed968f",
    "deepnote_cell_type": "markdown"
   }
  },
  {
   "cell_type": "markdown",
   "source": [
    "__Мета:__\n",
    "\n",
    "* _вдосконалення навичок у використанні Python для розв'язання складних завдань;_\n",
    "* _інтеграція методів програмування в одну програму, що складається з багатьох різних елементів._"
   ],
   "metadata": {
    "cell_id": "8c839a32bf414e8bb9079bbe048586dc",
    "deepnote_cell_type": "markdown"
   }
  },
  {
   "cell_type": "markdown",
   "source": [
    "### Постановка завдання"
   ],
   "metadata": {
    "cell_id": "54fab269b87b4faab7d00abf94c3ddcf",
    "deepnote_cell_type": "markdown"
   }
  },
  {
   "cell_type": "markdown",
   "source": [
    "Ваше завдання - написати просту програму, яка вдає, ніби грає з користувачем у хрестики-нуліки. Щоб вам було простіше, ми вирішили спростити гру. Ось наші припущення:\n",
    "\n",
    "* комп'ютер (тобто Ваша програма) повинен грати у гру, використовуючи 'X';\n",
    "* користувач (наприклад, Ви) повинен грати в гру, використовуючи символи 'O';\n",
    "* перший хід належить комп'ютеру - він завжди поміщає свій перший 'X' у середину дошки;\n",
    "* всі квадрати пронумеровані рядок за рядком, починаючи з 1 (див. приклад сеансу нижче для довідки)\n",
    "* користувач робить свій хід, вводячи номер обраного ним квадрата - число має бути дійсним, тобто. воно має бути цілим числом, воно має бути більше 0 і менше 10 і воно не може вказувати на поле, яке вже зайняте;\n",
    "* програма перевіряє, чи закінчена гра - є чотири можливі варіанти: гра повинна продовжуватися, гра закінчується нічиєю, Ви виграєте або комп'ютер виграє;\n",
    "* комп'ютер відповідає  \n",
    "\n",
    "ходом і перевірка повторюється;\n",
    "* не застосовуйте штучний інтелект у будь-якій формі – випадковий вибір поля, зроблений комп'ютером, досить добрий для гри.  \n",
    "\n",
    "Приклад сеансу роботи з програмою може виглядати так:\n",
    "![](image/1.png) \n",
    "![](image/2.png)\n",
    "![](image/3.png)\n",
    "![](image/4.png)  \n",
    "![](image/5.png)\n",
    "![](image/6.png)\n",
    "![](image/7.png) \n",
    "![](image/8.png) "
   ],
   "metadata": {
    "cell_id": "bded69fae3cf4237aa83b22923384473",
    "deepnote_cell_type": "markdown"
   }
  },
  {
   "cell_type": "markdown",
   "source": [
    "# Код гри"
   ],
   "metadata": {
    "cell_id": "cc6626e8ef324776a7fc994d5e89ee21",
    "deepnote_cell_type": "markdown"
   }
  },
  {
   "cell_type": "code",
   "source": [
    "import random\n",
    "\n",
    "# Відображення ігрової дошки\n",
    "def display_board(board):\n",
    "    print(\"-------------\")\n",
    "    for i in range(3):\n",
    "        print(\"|\", board[i][0], \"|\", board[i][1], \"|\", board[i][2], \"|\")\n",
    "        print(\"-------------\")\n",
    "\n",
    "# Функція для отримання ходу від гравця\n",
    "def get_player_move(board):\n",
    "    while True:\n",
    "        try:\n",
    "            move = int(input(\"Введіть клітинку (1-9): \"))\n",
    "            if move < 1 or move > 9:\n",
    "                print(\"Номер клітинки має бути від 1 до 9.\")\n",
    "            else:\n",
    "                row = (move - 1) // 3\n",
    "                col = (move - 1) % 3\n",
    "                if board[row][col] != \" \":\n",
    "                    print(\"Цей клітинка вже зайнята. Виберіть іншу.\")\n",
    "                else:\n",
    "                    return row, col\n",
    "        except ValueError:\n",
    "            print(\"Введено некоректне значення. Спробуйте ще раз.\")\n",
    "\n",
    "# Отримання випадкового ходу від комп'ютера\n",
    "def get_computer_move(board):\n",
    "    available_moves = []\n",
    "    for i in range(3):\n",
    "        for j in range(3):\n",
    "            if board[i][j] == \" \":\n",
    "                available_moves.append((i, j))\n",
    "    return random.choice(available_moves)\n",
    "\n",
    "# Перевірка переможця\n",
    "def check_win(board, player):\n",
    "    # Перевірка горизонтальних комбінацій\n",
    "    for i in range(3):\n",
    "        if board[i][0] == board[i][1] == board[i][2] == player:\n",
    "            return True\n",
    "    # Перевірка вертикальних комбінацій\n",
    "    for i in range(3):\n",
    "        if board[0][i] == board[1][i] == board[2][i] == player:\n",
    "            return True\n",
    "    # Перевірка діагональних комбінацій\n",
    "    if board[0][0] == board[1][1] == board[2][2] == player or board[0][2] == board[1][1] == board[2][0] == player:\n",
    "        return True\n",
    "    return False\n",
    "\n",
    "\n",
    "# Основа гри\n",
    "def play_game():\n",
    "    board = [[\" \", \" \", \" \"], [\" \", \" \", \" \"], [\" \", \" \", \" \"]]\n",
    "    current_player = \"X\"  # Комп'ютер завжди ходить першим\n",
    "    display_board(board)\n",
    "\n",
    "    while True:\n",
    "        if current_player == \"X\":\n",
    "            # Хід комп'ютера\n",
    "            print(\"Ходить комп'ютер (X):\")\n",
    "            row, col = get_computer_move(board)\n",
    "        else:\n",
    "            # Хід гравця\n",
    "            print(\"Ви ходите (O):\")\n",
    "            row, col = get_player_move(board)\n",
    "\n",
    "        # Оновлення дошки\n",
    "        board[row][col] = current_player\n",
    "        display_board(board)\n",
    "\n",
    "        # Перевірка результату гри\n",
    "        if check_win(board, current_player):\n",
    "            print(\"Гравець\", current_player, \"виграв!\")\n",
    "            break\n",
    "        elif all(board[i][j] != \" \" for i in range(3) for j in range(3)):\n",
    "            print(\"Гра закінчилася нічиєю!.\")\n",
    "            break\n",
    "\n",
    "        # Зміна активного гравця\n",
    "        current_player = \"O\" if current_player == \"X\" else \"X\"\n",
    "\n",
    "# Запуск гри\n",
    "play_game()"
   ],
   "metadata": {
    "cell_id": "42545a376a6146aa94aa97f44b90d319",
    "source_hash": "3e3562f0",
    "execution_start": 1685465502808,
    "execution_millis": 37794,
    "deepnote_to_be_reexecuted": false,
    "deepnote_cell_type": "code"
   },
   "outputs": [
    {
     "name": "stdout",
     "text": "-------------\n|   |   |   |\n-------------\n|   |   |   |\n-------------\n|   |   |   |\n-------------\nХодить комп'ютер (X):\n-------------\n|   |   |   |\n-------------\n|   | X |   |\n-------------\n|   |   |   |\n-------------\nВи ходите (O):\n-------------\n|   | O |   |\n-------------\n|   | X |   |\n-------------\n|   |   |   |\n-------------\nХодить комп'ютер (X):\n-------------\n|   | O |   |\n-------------\n|   | X | X |\n-------------\n|   |   |   |\n-------------\nВи ходите (O):\n-------------\n| O | O |   |\n-------------\n|   | X | X |\n-------------\n|   |   |   |\n-------------\nХодить комп'ютер (X):\n-------------\n| O | O |   |\n-------------\n|   | X | X |\n-------------\n|   | X |   |\n-------------\nВи ходите (O):\n-------------\n| O | O | O |\n-------------\n|   | X | X |\n-------------\n|   | X |   |\n-------------\nГравець O виграв!\n",
     "output_type": "stream"
    }
   ],
   "execution_count": 2
  },
  {
   "cell_type": "markdown",
   "source": [
    "<a style='text-decoration:none;line-height:16px;display:flex;color:#5B5B62;padding:10px;justify-content:end;' href='https://deepnote.com?utm_source=created-in-deepnote-cell&projectId=89ddd344-1ef7-423f-a0be-94096fc2d85a' target=\"_blank\">\n",
    "<img alt='Created in deepnote.com' style='display:inline;max-height:16px;margin:0px;margin-right:7.5px;' src='data:image/svg+xml;base64,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' > </img>\n",
    "Created in <span style='font-weight:600;margin-left:4px;'>Deepnote</span></a>"
   ],
   "metadata": {
    "created_in_deepnote_cell": true,
    "deepnote_cell_type": "markdown"
   }
  }
 ],
 "nbformat": 4,
 "nbformat_minor": 0,
 "metadata": {
  "deepnote": {},
  "kernelspec": {
   "name": "python3",
   "language": "python",
   "display_name": "Python 3 (ipykernel)"
  },
  "language_info": {
   "name": "python",
   "version": "3.10.10",
   "mimetype": "text/x-python",
   "file_extension": ".py",
   "pygments_lexer": "ipython3",
   "codemirror_mode": {
    "name": "ipython",
    "version": 3
   },
   "nbconvert_exporter": "python"
  },
  "deepnote_notebook_id": "0766c25eee80480f94455f33e52e6a6a",
  "deepnote_execution_queue": []
 }
}
