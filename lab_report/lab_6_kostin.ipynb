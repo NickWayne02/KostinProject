{
 "cells": [
  {
   "cell_type": "markdown",
   "source": [
    "#### 16.05.23, &copy; [Evhenii Kostin](https://www.linkedin.com/in/%D0%B5%D0%B2%D0%B3%D0%B5%D0%BD%D0%B8%D0%B9-%D0%BA%D0%BE%D1%81%D1%82%D0%B8%D0%BD-8287b0264/), 2023"
   ],
   "metadata": {
    "cell_id": "944b06373d334d958ff44ae2fb456329",
    "deepnote_cell_type": "markdown"
   }
  },
  {
   "cell_type": "markdown",
   "source": [
    "# Лабораторна робота №6. Функції"
   ],
   "metadata": {
    "cell_id": "bf83dfeecef9485bb614bbae3bc81646",
    "deepnote_cell_type": "markdown"
   }
  },
  {
   "cell_type": "markdown",
   "source": [
    "__Мета:__ _навчитися писати функції та користуватися ними_"
   ],
   "metadata": {
    "cell_id": "5388affa8c174f3388c3988ae412e6b4",
    "deepnote_cell_type": "markdown"
   }
  },
  {
   "cell_type": "markdown",
   "source": [
    "### Завдання 1"
   ],
   "metadata": {
    "cell_id": "a0157808842d4ba3935ea059f21cf0d8",
    "deepnote_cell_type": "markdown"
   }
  },
  {
   "cell_type": "code",
   "source": [
    "def is_year_leap(year):\n",
    "    if year < 1582:\n",
    "        return False\n",
    "    else:\n",
    "        if year % 4 != 0:\n",
    "            return False\n",
    "        else:\n",
    "            if year % 100 != 0:\n",
    "                return True\n",
    "            elif year % 400 != 0:\n",
    "                return False\n",
    "            else:\n",
    "                return True\n",
    "\n",
    "test_data = [1900, 2000, 2016, 1987]\n",
    "test_results = [False, True, True, False]\n",
    "for i in range(len(test_data)):\n",
    "  yr = test_data[i]\n",
    "  print(yr,\"->\",end=\"\")\n",
    "  result = is_year_leap(yr)\n",
    "  if result:\n",
    "      print(\"OK\")\n",
    "  else:\n",
    "      print(\"Failed\")"
   ],
   "metadata": {
    "cell_id": "683573128b9a46de855d1ee2e3fc2a2f",
    "source_hash": "d75a0ca7",
    "execution_start": 1685000276311,
    "execution_millis": 11,
    "deepnote_to_be_reexecuted": false,
    "deepnote_cell_type": "code"
   },
   "outputs": [
    {
     "name": "stdout",
     "text": "1900 ->Failed\n2000 ->OK\n2016 ->OK\n1987 ->Failed\n",
     "output_type": "stream"
    }
   ],
   "execution_count": 1
  },
  {
   "cell_type": "markdown",
   "source": [
    "### Завдання 2 "
   ],
   "metadata": {
    "cell_id": "cdac8067b9ec40b5baf16a0ed0499151",
    "deepnote_cell_type": "markdown"
   }
  },
  {
   "cell_type": "code",
   "source": [
    "def days_in_month(year, month):\n",
    "    if month == 1 or month == 3 or month == 5 or month == 7 or month == 8 or month == 10 or month == 12:\n",
    "       return 31\n",
    "    elif month == 2:\n",
    "        if is_year_leap(year):\n",
    "            return 29\n",
    "        else:\n",
    "            return 28\n",
    "    else:\n",
    "        return 30\n",
    "\n",
    "\n",
    "test_years = [1900, 2000, 2016, 1987]\n",
    "test_months = [2, 2, 1, 11]\n",
    "test_results = [28, 29, 31, 30]\n",
    "for i in range(len(test_years)):\n",
    "  yr = test_years[i]\n",
    "  mo = test_months[i]\n",
    "  print(yr, mo, \"->\", end=\"\")\n",
    "  result = days_in_month(yr, mo)\n",
    "  print(result)"
   ],
   "metadata": {
    "cell_id": "f7b1db247102440e907aaf612793a89b",
    "source_hash": "30b087f7",
    "execution_start": 1685000310933,
    "execution_millis": 2,
    "deepnote_to_be_reexecuted": false,
    "deepnote_cell_type": "code"
   },
   "outputs": [
    {
     "name": "stdout",
     "text": "1900 2 ->28\n2000 2 ->29\n2016 1 ->31\n1987 11 ->30\n",
     "output_type": "stream"
    }
   ],
   "execution_count": 2
  },
  {
   "cell_type": "markdown",
   "source": [
    "### Завдання 3"
   ],
   "metadata": {
    "cell_id": "7e8cde52d2a14e53ac93e07ba6955c26",
    "deepnote_cell_type": "markdown"
   }
  },
  {
   "cell_type": "code",
   "source": [
    "import datetime\n",
    "\n",
    "def day_of_year(year, month, day):\n",
    "    try:\n",
    "        date = datetime.datetime(year=year, month=month, day=day)\n",
    "        return date.timetuple().tm_yday\n",
    "    except ValueError:\n",
    "        return None\n",
    "print(day_of_year(8,12,2002))"
   ],
   "metadata": {
    "cell_id": "92416af6e266427d92cab7f082a3039e",
    "source_hash": "47cd05a9",
    "execution_start": 1685000432825,
    "execution_millis": 2,
    "deepnote_to_be_reexecuted": false,
    "deepnote_cell_type": "code"
   },
   "outputs": [
    {
     "name": "stdout",
     "text": "None\n",
     "output_type": "stream"
    }
   ],
   "execution_count": 3
  },
  {
   "cell_type": "markdown",
   "source": [
    "###  Завдання 4"
   ],
   "metadata": {
    "cell_id": "6d919accbe6f420ca61ed76da1679e3a",
    "deepnote_cell_type": "markdown"
   }
  },
  {
   "cell_type": "code",
   "source": [
    "def is_prime(num):\n",
    "    flag = True\n",
    "    for i in range(2, num):\n",
    "        if num % i == 0:\n",
    "            flag = False\n",
    "            break\n",
    "    return flag\n",
    "\n",
    "for i in range(1, 20):\n",
    "   if is_prime(i + 1):\n",
    "           print(i + 1, end=\" \")\n",
    "print()"
   ],
   "metadata": {
    "cell_id": "db64bb70c5e0423b88f11917850af43e",
    "source_hash": "1853995",
    "execution_start": 1685000458573,
    "execution_millis": 5,
    "deepnote_to_be_reexecuted": false,
    "deepnote_cell_type": "code"
   },
   "outputs": [
    {
     "name": "stdout",
     "text": "2 3 5 7 11 13 17 19 \n",
     "output_type": "stream"
    }
   ],
   "execution_count": 4
  },
  {
   "cell_type": "markdown",
   "source": [
    "### Завдання 5"
   ],
   "metadata": {
    "cell_id": "08dd24d70fe04e4e98034e9e925d0735",
    "deepnote_cell_type": "markdown"
   }
  },
  {
   "cell_type": "code",
   "source": [
    "def liters_100km_to_miles_gallon(liters):\n",
    "    galon = liters / 3.785411784\n",
    "    miles = 100_000 / 1609.344\n",
    "    return miles / galon\n",
    "\n",
    "def miles_gallon_to_liters_100km(miles):\n",
    "    liters = 3.785411784\n",
    "    kilometers = miles * 1609.344\n",
    "    return liters / kilometers\n",
    "\n",
    "print(liters_100km_to_miles_gallon(3.9))\n",
    "print(liters_100km_to_miles_gallon(7.5))\n",
    "print(liters_100km_to_miles_gallon(10.))\n",
    "print(miles_gallon_to_liters_100km(60.3))\n",
    "print(miles_gallon_to_liters_100km(31.4))\n",
    "print(miles_gallon_to_liters_100km(23.5))"
   ],
   "metadata": {
    "cell_id": "57e1372e23b04c6b8c8143c07910deff",
    "source_hash": "52a89e98",
    "execution_start": 1685000496358,
    "execution_millis": 4,
    "deepnote_to_be_reexecuted": false,
    "deepnote_cell_type": "code"
   },
   "outputs": [
    {
     "name": "stdout",
     "text": "60.31143162393162\n31.36194444444444\n23.52145833333333\n3.900739358761747e-05\n7.490910297239915e-05\n0.00010009131205673757\n",
     "output_type": "stream"
    }
   ],
   "execution_count": 5
  },
  {
   "cell_type": "markdown",
   "source": [
    "### Завдання 6 "
   ],
   "metadata": {
    "cell_id": "dd4aa209529d4a1d99f033278ca54622",
    "deepnote_cell_type": "markdown"
   }
  },
  {
   "cell_type": "code",
   "source": [
    "def is_a_triangle(a, b, c):\n",
    "    if modul(a - b) < c < a + b and modul(a - c) < b < a + c and modul(c - b) < a < c + b:\n",
    "        return True\n",
    "    else:\n",
    "        return False\n",
    "\n",
    "print(is_a_triangle(3, 3, 3))"
   ],
   "metadata": {
    "cell_id": "88722632749c40ac94b31955df3a1cd0",
    "source_hash": "8af1a8e9",
    "execution_start": 1685000673913,
    "execution_millis": 2,
    "deepnote_to_be_reexecuted": false,
    "deepnote_cell_type": "code"
   },
   "outputs": [
    {
     "name": "stdout",
     "text": "True\n",
     "output_type": "stream"
    }
   ],
   "execution_count": 9
  },
  {
   "cell_type": "markdown",
   "source": [
    "### Завдання 7 "
   ],
   "metadata": {
    "cell_id": "0bc04971cfd344fe8026d6549de50671",
    "deepnote_cell_type": "markdown"
   }
  },
  {
   "cell_type": "code",
   "source": [
    "def is_a_right_triangle(a, b, c):\n",
    "    if is_a_triangle(a, b, c):\n",
    "        if a**2 + b**2 == c**2 or a**2 + c**2 == b**2 or c**2 + b**2 == a**2:\n",
    "            return True\n",
    "        else:\n",
    "            return False\n",
    "    else:\n",
    "        return False\n",
    "\n",
    "print(is_a_right_triangle(3,4,5))"
   ],
   "metadata": {
    "cell_id": "5f44215e4b174d27bc0b0ca6895d654c",
    "source_hash": "dc40ee5",
    "execution_start": 1685000594533,
    "execution_millis": 2,
    "deepnote_to_be_reexecuted": false,
    "deepnote_cell_type": "code"
   },
   "outputs": [
    {
     "name": "stdout",
     "text": "True\n",
     "output_type": "stream"
    }
   ],
   "execution_count": 8
  },
  {
   "cell_type": "markdown",
   "source": [
    "### Відповіді на контрольні запитання\n",
    "<ol>\n",
    "    <li>Виведе помилку про неіснування зміної alt</li>\n",
    "    <li>2 <br> 1</li>\n",
    "    <li>2 <br> 3</li>\n",
    "    <li>2 <br> 2</li>\n",
    "</ol>\n"
   ],
   "metadata": {
    "cell_id": "71923f98e57f4abb99d4f7672f884f2a",
    "deepnote_cell_type": "markdown"
   }
  },
  {
   "cell_type": "markdown",
   "source": [
    "<a style='text-decoration:none;line-height:16px;display:flex;color:#5B5B62;padding:10px;justify-content:end;' href='https://deepnote.com?utm_source=created-in-deepnote-cell&projectId=89ddd344-1ef7-423f-a0be-94096fc2d85a' target=\"_blank\">\n",
    "<img alt='Created in deepnote.com' style='display:inline;max-height:16px;margin:0px;margin-right:7.5px;' src='data:image/svg+xml;base64,PD94bWwgdmVyc2lvbj0iMS4wIiBlbmNvZGluZz0iVVRGLTgiPz4KPHN2ZyB3aWR0aD0iODBweCIgaGVpZ2h0PSI4MHB4IiB2aWV3Qm94PSIwIDAgODAgODAiIHZlcnNpb249IjEuMSIgeG1sbnM9Imh0dHA6Ly93d3cudzMub3JnLzIwMDAvc3ZnIiB4bWxuczp4bGluaz0iaHR0cDovL3d3dy53My5vcmcvMTk5OS94bGluayI+CiAgICA8IS0tIEdlbmVyYXRvcjogU2tldGNoIDU0LjEgKDc2NDkwKSAtIGh0dHBzOi8vc2tldGNoYXBwLmNvbSAtLT4KICAgIDx0aXRsZT5Hcm91cCAzPC90aXRsZT4KICAgIDxkZXNjPkNyZWF0ZWQgd2l0aCBTa2V0Y2guPC9kZXNjPgogICAgPGcgaWQ9IkxhbmRpbmciIHN0cm9rZT0ibm9uZSIgc3Ryb2tlLXdpZHRoPSIxIiBmaWxsPSJub25lIiBmaWxsLXJ1bGU9ImV2ZW5vZGQiPgogICAgICAgIDxnIGlkPSJBcnRib2FyZCIgdHJhbnNmb3JtPSJ0cmFuc2xhdGUoLTEyMzUuMDAwMDAwLCAtNzkuMDAwMDAwKSI+CiAgICAgICAgICAgIDxnIGlkPSJHcm91cC0zIiB0cmFuc2Zvcm09InRyYW5zbGF0ZSgxMjM1LjAwMDAwMCwgNzkuMDAwMDAwKSI+CiAgICAgICAgICAgICAgICA8cG9seWdvbiBpZD0iUGF0aC0yMCIgZmlsbD0iIzAyNjVCNCIgcG9pbnRzPSIyLjM3NjIzNzYyIDgwIDM4LjA0NzY2NjcgODAgNTcuODIxNzgyMiA3My44MDU3NTkyIDU3LjgyMTc4MjIgMzIuNzU5MjczOSAzOS4xNDAyMjc4IDMxLjY4MzE2ODMiPjwvcG9seWdvbj4KICAgICAgICAgICAgICAgIDxwYXRoIGQ9Ik0zNS4wMDc3MTgsODAgQzQyLjkwNjIwMDcsNzYuNDU0OTM1OCA0Ny41NjQ5MTY3LDcxLjU0MjI2NzEgNDguOTgzODY2LDY1LjI2MTk5MzkgQzUxLjExMjI4OTksNTUuODQxNTg0MiA0MS42NzcxNzk1LDQ5LjIxMjIyODQgMjUuNjIzOTg0Niw0OS4yMTIyMjg0IEMyNS40ODQ5Mjg5LDQ5LjEyNjg0NDggMjkuODI2MTI5Niw0My4yODM4MjQ4IDM4LjY0NzU4NjksMzEuNjgzMTY4MyBMNzIuODcxMjg3MSwzMi41NTQ0MjUgTDY1LjI4MDk3Myw2Ny42NzYzNDIxIEw1MS4xMTIyODk5LDc3LjM3NjE0NCBMMzUuMDA3NzE4LDgwIFoiIGlkPSJQYXRoLTIyIiBmaWxsPSIjMDAyODY4Ij48L3BhdGg+CiAgICAgICAgICAgICAgICA8cGF0aCBkPSJNMCwzNy43MzA0NDA1IEwyNy4xMTQ1MzcsMC4yNTcxMTE0MzYgQzYyLjM3MTUxMjMsLTEuOTkwNzE3MDEgODAsMTAuNTAwMzkyNyA4MCwzNy43MzA0NDA1IEM4MCw2NC45NjA0ODgyIDY0Ljc3NjUwMzgsNzkuMDUwMzQxNCAzNC4zMjk1MTEzLDgwIEM0Ny4wNTUzNDg5LDc3LjU2NzA4MDggNTMuNDE4MjY3Nyw3MC4zMTM2MTAzIDUzLjQxODI2NzcsNTguMjM5NTg4NSBDNTMuNDE4MjY3Nyw0MC4xMjg1NTU3IDM2LjMwMzk1NDQsMzcuNzMwNDQwNSAyNS4yMjc0MTcsMzcuNzMwNDQwNSBDMTcuODQzMDU4NiwzNy43MzA0NDA1IDkuNDMzOTE5NjYsMzcuNzMwNDQwNSAwLDM3LjczMDQ0MDUgWiIgaWQ9IlBhdGgtMTkiIGZpbGw9IiMzNzkzRUYiPjwvcGF0aD4KICAgICAgICAgICAgPC9nPgogICAgICAgIDwvZz4KICAgIDwvZz4KPC9zdmc+' > </img>\n",
    "Created in <span style='font-weight:600;margin-left:4px;'>Deepnote</span></a>"
   ],
   "metadata": {
    "created_in_deepnote_cell": true,
    "deepnote_cell_type": "markdown"
   }
  }
 ],
 "nbformat": 4,
 "nbformat_minor": 0,
 "metadata": {
  "deepnote": {},
  "kernelspec": {
   "name": "python3",
   "language": "python",
   "display_name": "Python 3 (ipykernel)"
  },
  "language_info": {
   "name": "python",
   "version": "3.10.10",
   "mimetype": "text/x-python",
   "file_extension": ".py",
   "pygments_lexer": "ipython3",
   "codemirror_mode": {
    "name": "ipython",
    "version": 3
   },
   "nbconvert_exporter": "python"
  },
  "deepnote_notebook_id": "c2c09050064c44528cd129e973ceaced",
  "deepnote_execution_queue": []
 }
}
