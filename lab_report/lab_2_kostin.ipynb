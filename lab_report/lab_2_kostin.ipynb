{
 "cells": [
  {
   "cell_type": "markdown",
   "source": [
    "#### 16.05.23, &copy; [Evhenii Kostin](https://www.linkedin.com/in/%D0%B5%D0%B2%D0%B3%D0%B5%D0%BD%D0%B8%D0%B9-%D0%BA%D0%BE%D1%81%D1%82%D0%B8%D0%BD-8287b0264/), 2023"
   ],
   "metadata": {
    "cell_id": "fcc97416fb2240aebf8604c319e5de74",
    "deepnote_cell_type": "markdown"
   }
  },
  {
   "cell_type": "markdown",
   "source": [
    "# Лабораторна робота №2. Функція `print()`"
   ],
   "metadata": {
    "cell_id": "58d84c520b3a48cf953d3dc73bdf7f59",
    "deepnote_cell_type": "markdown"
   }
  },
  {
   "cell_type": "markdown",
   "source": [
    "__Мета:__ _навчитися писати і запускати найпростіші програми на Python з використанням функції `print()`_"
   ],
   "metadata": {
    "cell_id": "d4759d76756d4bb2a7f2b08d188de731",
    "deepnote_cell_type": "markdown"
   }
  },
  {
   "cell_type": "markdown",
   "source": [
    "1. Змінив код програми:"
   ],
   "metadata": {
    "cell_id": "c5b87d8b52a4429dbc4197da01e884d3",
    "deepnote_cell_type": "markdown"
   }
  },
  {
   "cell_type": "code",
   "source": [
    "print(\"Programing\", \"Essential\", \"in\", sep=\"***\", end=\"...\")\n",
    "print(\"Python\")"
   ],
   "metadata": {
    "cell_id": "1a658374b3ab4a4dba06715032ab4998",
    "source_hash": "fe0f2a2d",
    "execution_start": 1684941651246,
    "execution_millis": 4,
    "deepnote_to_be_reexecuted": false,
    "deepnote_cell_type": "code"
   },
   "outputs": [
    {
     "name": "stdout",
     "text": "Programing***Essential***in...Python\n",
     "output_type": "stream"
    }
   ],
   "execution_count": 1
  },
  {
   "cell_type": "markdown",
   "source": [
    "2. Написав програму, яка виводить на екран наступну картинку:"
   ],
   "metadata": {
    "cell_id": "bfc70b6c6c754064ae773b291edb71f1",
    "deepnote_cell_type": "markdown"
   }
  },
  {
   "cell_type": "code",
   "source": [
    "print(\"    *  \\n   * *\\n  *   *\\n *     *\\n***   ***\\n  *   *\\n  *   *\\n  *   *\\n  *****\\n\")"
   ],
   "metadata": {
    "cell_id": "a2c69cbf27dd4361b8471a7cc3176c46",
    "source_hash": "3201612f",
    "execution_start": 1684941755511,
    "execution_millis": 1,
    "deepnote_to_be_reexecuted": false,
    "deepnote_cell_type": "code"
   },
   "outputs": [
    {
     "name": "stdout",
     "text": "    *  \n   * *\n  *   *\n *     *\n***   ***\n  *   *\n  *   *\n  *   *\n  *****\n\n",
     "output_type": "stream"
    }
   ],
   "execution_count": 2
  },
  {
   "cell_type": "markdown",
   "source": [
    "3. Вивів на екран наступний рядок:"
   ],
   "metadata": {
    "cell_id": "66e386b9378247ec94ab26a7d6a0a409",
    "deepnote_cell_type": "markdown"
   }
  },
  {
   "cell_type": "code",
   "source": [
    "print(\"I`m student\")"
   ],
   "metadata": {
    "cell_id": "40ccb9e2b8eb4c3da8f6db21ad42fd20",
    "source_hash": "5fd8e9d8",
    "execution_start": 1684941802023,
    "execution_millis": 1,
    "deepnote_to_be_reexecuted": false,
    "deepnote_cell_type": "code"
   },
   "outputs": [
    {
     "name": "stdout",
     "text": "I`m student\n",
     "output_type": "stream"
    }
   ],
   "execution_count": 3
  },
  {
   "cell_type": "markdown",
   "source": [
    "4. Написав програму, яка виводить наступне: "
   ],
   "metadata": {
    "cell_id": "0e5faae6dd714655b2d4c38aa4fe1e5b",
    "deepnote_cell_type": "markdown"
   }
  },
  {
   "cell_type": "code",
   "source": [
    "print(\"\\\"I`m\\\"\\n\\\"\\\"learning\\\"\\\"\\n\\\"\\\"\\\"Python\\\"\\\"\\\"\")"
   ],
   "metadata": {
    "cell_id": "3df51679c17a458088e83f223ce1f6b3",
    "source_hash": "bebf24c2",
    "execution_start": 1684941875827,
    "execution_millis": 2,
    "deepnote_to_be_reexecuted": false,
    "deepnote_cell_type": "code"
   },
   "outputs": [
    {
     "name": "stdout",
     "text": "\"I`m\"\n\"\"learning\"\"\n\"\"\"Python\"\"\"\n",
     "output_type": "stream"
    }
   ],
   "execution_count": 4
  },
  {
   "cell_type": "markdown",
   "source": [
    "5. $500_8$ дорівнює:"
   ],
   "metadata": {
    "cell_id": "d7622e336fa94e0da74e8c3dbb774ed2",
    "deepnote_cell_type": "markdown"
   }
  },
  {
   "cell_type": "code",
   "source": [
    "print(0o555)"
   ],
   "metadata": {
    "cell_id": "983c522b101a4b73bccf165d0b734efd",
    "source_hash": "72036f65",
    "execution_start": 1684941954423,
    "execution_millis": 1,
    "deepnote_to_be_reexecuted": false,
    "deepnote_cell_type": "code"
   },
   "outputs": [
    {
     "name": "stdout",
     "text": "365\n",
     "output_type": "stream"
    }
   ],
   "execution_count": 5
  },
  {
   "cell_type": "markdown",
   "source": [
    "6. $777_{16}$ дорівнює:"
   ],
   "metadata": {
    "cell_id": "9c4f81ecd4994041b9a4503a7541206a",
    "deepnote_cell_type": "markdown"
   }
  },
  {
   "cell_type": "code",
   "source": [
    "print(0x777)"
   ],
   "metadata": {
    "cell_id": "09cbf5d7f15045dcbee8946666e155ef",
    "source_hash": "5b3cb95d",
    "execution_start": 1684942029199,
    "execution_millis": 1,
    "deepnote_to_be_reexecuted": false,
    "deepnote_cell_type": "code"
   },
   "outputs": [
    {
     "name": "stdout",
     "text": "1911\n",
     "output_type": "stream"
    }
   ],
   "execution_count": 6
  },
  {
   "cell_type": "markdown",
   "source": [
    "7. Запушив і закомітив код на [GitHub](https://github.com/NickWayne02/KostinProject/tree/master). "
   ],
   "metadata": {
    "cell_id": "64d2866dd06c4a1faa652071e2ea06fe",
    "deepnote_cell_type": "markdown"
   }
  },
  {
   "cell_type": "markdown",
   "source": [
    "### Відповіді на контрольні запитання\n",
    "\n",
    "1. Записати ієрархію операторів.\n",
    "        \n",
    "<ul>\n",
    "        <li><i>+</i>&nbsp;,&nbsp;<i>-</i>&nbsp;унарні</li>\n",
    "        <li><i>**</i></li>\n",
    "        <li><i>*</i>&nbsp;,&nbsp;<i>%</i>&nbsp;,&nbsp;<i>/</i></li>\n",
    "        <li><i>+</i>&nbsp;,&nbsp;<i>-</i>&nbsp;бінарні</li>\n",
    "    </ul>\n",
    "\n",
    "2. Записати на Python обчислення виразу $3^{3^4}$\n",
    "\n"
   ],
   "metadata": {
    "cell_id": "04d04bf5e6f04787bfcaae0029652aba",
    "deepnote_cell_type": "markdown"
   }
  },
  {
   "cell_type": "code",
   "source": [
    "print(3**3**4)"
   ],
   "metadata": {
    "cell_id": "866c3984ac594b19824173a6b0d70f92",
    "source_hash": "c235c31c",
    "execution_start": 1684942372331,
    "execution_millis": 2,
    "deepnote_to_be_reexecuted": false,
    "deepnote_cell_type": "code"
   },
   "outputs": [
    {
     "name": "stdout",
     "text": "443426488243037769948249630619149892803\n",
     "output_type": "stream"
    }
   ],
   "execution_count": 7
  },
  {
   "cell_type": "markdown",
   "source": [
    "3. Що робить escape-символ \\n при виводі на екран функцією `print()`?\n",
    "Переводить строку на новий рядок"
   ],
   "metadata": {
    "cell_id": "c3aea411f0df4aa2bed5d5ffdc4d4a74",
    "deepnote_cell_type": "markdown"
   }
  },
  {
   "cell_type": "markdown",
   "source": [
    "<a style='text-decoration:none;line-height:16px;display:flex;color:#5B5B62;padding:10px;justify-content:end;' href='https://deepnote.com?utm_source=created-in-deepnote-cell&projectId=89ddd344-1ef7-423f-a0be-94096fc2d85a' target=\"_blank\">\n",
    "<img alt='Created in deepnote.com' style='display:inline;max-height:16px;margin:0px;margin-right:7.5px;' src='data:image/svg+xml;base64,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' > </img>\n",
    "Created in <span style='font-weight:600;margin-left:4px;'>Deepnote</span></a>"
   ],
   "metadata": {
    "created_in_deepnote_cell": true,
    "deepnote_cell_type": "markdown"
   }
  }
 ],
 "nbformat": 4,
 "nbformat_minor": 0,
 "metadata": {
  "deepnote": {},
  "kernelspec": {
   "name": "python3",
   "language": "python",
   "display_name": "Python 3 (ipykernel)"
  },
  "language_info": {
   "name": "python",
   "version": "3.10.9",
   "mimetype": "text/x-python",
   "file_extension": ".py",
   "pygments_lexer": "ipython3",
   "codemirror_mode": {
    "name": "ipython",
    "version": 3
   },
   "nbconvert_exporter": "python"
  },
  "deepnote_notebook_id": "39d3f59ce878427fb1562414cc155f25",
  "deepnote_execution_queue": []
 }
}
