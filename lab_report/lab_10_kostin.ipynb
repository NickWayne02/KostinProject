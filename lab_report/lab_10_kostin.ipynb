{
 "cells": [
  {
   "cell_type": "markdown",
   "source": [
    "#### 16.05.23, &copy; [Evhenii Kostin](https://www.linkedin.com/in/%D0%B5%D0%B2%D0%B3%D0%B5%D0%BD%D0%B8%D0%B9-%D0%BA%D0%BE%D1%81%D1%82%D0%B8%D0%BD-8287b0264/), 2023"
   ],
   "metadata": {
    "cell_id": "ef693cf20449447a9d0fb964f26ec1b8",
    "deepnote_cell_type": "markdown"
   }
  },
  {
   "cell_type": "markdown",
   "source": [
    "# Лабораторна робота №10. Рядки. Методи рядків і списків. Винятки. Частина ІІ"
   ],
   "metadata": {
    "cell_id": "dadf57a5634f4ab8afe714e3b8477fda",
    "deepnote_cell_type": "markdown"
   }
  },
  {
   "cell_type": "markdown",
   "source": [
    "__Мета:__ _навчитися обробляти рядки за допомогою спеціальних функцій і методів._"
   ],
   "metadata": {
    "cell_id": "76ec8f9f9d7c43f495089817e07acae6",
    "deepnote_cell_type": "markdown"
   }
  },
  {
   "cell_type": "markdown",
   "source": [
    "### Завдання 1\n",
    "Ваше завдання - написати програму, яка:\n",
    "\n",
    "* запитує у користувача текст;\n",
    "* перевіряє, чи є введений текст паліндромом, і друкує результат."
   ],
   "metadata": {
    "cell_id": "3607cf1325614da39d6b74d83724a4a7",
    "deepnote_cell_type": "markdown"
   }
  },
  {
   "cell_type": "code",
   "source": [
    "def is_palindrome(text):\n",
    "    text = text.replace(\" \", \"\").lower()\n",
    "    if text == text[::-1]:\n",
    "        return True\n",
    "    else:\n",
    "        return False\n",
    "\n",
    "\n",
    "user_text = input(\"Введіть текст: \")\n",
    "\n",
    "if is_palindrome(user_text):\n",
    "    print(\"Це паліндром!\")\n",
    "else:\n",
    "    print(\"Це не паліндром.\")"
   ],
   "metadata": {
    "cell_id": "8db1b95398dd4aecbb9093a54f4eb704",
    "source_hash": "c27e7a7e",
    "execution_start": 1685003702339,
    "execution_millis": 10254,
    "deepnote_to_be_reexecuted": false,
    "deepnote_cell_type": "code"
   },
   "outputs": [
    {
     "name": "stdout",
     "text": "Це паліндром!\n",
     "output_type": "stream"
    }
   ],
   "execution_count": 2
  },
  {
   "cell_type": "markdown",
   "source": [
    "### Завдання 2\n",
    "\n",
    "Ваше завдання -- написати програму, яка:\n",
    "\n",
    "* запитує у користувача два окремі тексти;\n",
    "* перевіряє, чи введені тексти є анаграмами, і виводить результат."
   ],
   "metadata": {
    "cell_id": "5f00f7f3a180476dbe6044c87c63e65b",
    "deepnote_cell_type": "markdown"
   }
  },
  {
   "cell_type": "code",
   "source": [
    "def is_anagram(text1, text2):\n",
    "    text1 = text1.replace(\" \", \"\").lower()\n",
    "    text2 = text2.replace(\" \", \"\").lower()\n",
    "    if len(text1) != len(text2):\n",
    "        return False\n",
    "\n",
    "    for char in text1:\n",
    "        if char not in text2:\n",
    "            return False\n",
    "\n",
    "    return True\n",
    "\n",
    "\n",
    "text1 = input(\"Введіть перший текст: \")\n",
    "text2 = input(\"Введіть другий текст: \")\n",
    "\n",
    "if is_anagram(text1, text2):\n",
    "    print(\"Це анаграми!\")\n",
    "else:\n",
    "    print(\"Це не анаграми.\")\n"
   ],
   "metadata": {
    "cell_id": "50d6791ece7344218f3937a0a8840476",
    "source_hash": "3033173c",
    "execution_start": 1685003810309,
    "execution_millis": 10239,
    "deepnote_to_be_reexecuted": false,
    "deepnote_cell_type": "code"
   },
   "outputs": [
    {
     "name": "stdout",
     "text": "Це анаграми!\n",
     "output_type": "stream"
    }
   ],
   "execution_count": 3
  },
  {
   "cell_type": "markdown",
   "source": [
    "### Завдання 3\n",
    "Ваше завдання - написати програму, яка:\n",
    "\n",
    "запитує користувача про його/її день народження (у форматі РРРГММДД, або РРРРДДММ, або ММДДРРРР - фактично порядок цифр не має значення);\n",
    "виводить цифру життя для дати.\n",
    "Протестуйте свій код, використовуючи надані нами дані.  \n",
    "\n",
    "Тестові дані:\n",
    "\n",
    "`19991229`  \n",
    "`6`  \n",
    "\n",
    "Приклад вивода: \n",
    "\n",
    "`20000101`\n",
    "`4`\n"
   ],
   "metadata": {
    "cell_id": "6c772695bb5a48939bad8e4fc0e019fc",
    "deepnote_cell_type": "markdown"
   }
  },
  {
   "cell_type": "code",
   "source": [
    "def calculate_life_number(date):\n",
    "    date = list(filter(str.isdigit, date))\n",
    "\n",
    "    life_number = sum(int(digit) for digit in date)\n",
    "\n",
    "    while life_number > 9:\n",
    "        life_number = sum(int(digit) for digit in str(life_number))\n",
    "\n",
    "    return life_number\n",
    "\n",
    "\n",
    "birthdate = input(\"Введіть дату народження (у форматі РРРГММДД, або РРРРДДММ, або ММДДРРРР): \")\n",
    "\n",
    "life_number = calculate_life_number(birthdate)\n",
    "\n",
    "print(f\"Цифра життя для дати {birthdate}: {life_number}\")"
   ],
   "metadata": {
    "cell_id": "7dfef55620da41db9d89c77b48603d44",
    "source_hash": "ae65f6e7",
    "execution_start": 1685003914701,
    "execution_millis": 10328,
    "deepnote_to_be_reexecuted": false,
    "deepnote_cell_type": "code"
   },
   "outputs": [
    {
     "name": "stdout",
     "text": "Цифра життя для дати 20020504: 4\n",
     "output_type": "stream"
    }
   ],
   "execution_count": 4
  },
  {
   "cell_type": "markdown",
   "source": [
    "### Завдання 4"
   ],
   "metadata": {
    "cell_id": "e4f832e0a098457e8f0e09ed91ffa463",
    "deepnote_cell_type": "markdown"
   }
  },
  {
   "cell_type": "markdown",
   "source": [
    "Ваше завдання – написати програму, яка відповість на наступне запитання: символи, що становлять перший рядок, приховані всередині другого рядка?"
   ],
   "metadata": {
    "cell_id": "e5762fd881dc4745aeb2314229cd954e",
    "deepnote_cell_type": "markdown"
   }
  },
  {
   "cell_type": "code",
   "source": [
    "def is_hidden(word, combination):\n",
    "    word = word.lower()\n",
    "    combination = combination.lower()\n",
    "\n",
    "    current_index = -1\n",
    "\n",
    "    for char in word:\n",
    "        current_index = combination.find(char, current_index + 1)\n",
    "\n",
    "        if current_index == -1:\n",
    "            return False\n",
    "\n",
    "    return True\n",
    "\n",
    "\n",
    "word = input(\"Введіть слово: \")\n",
    "combination = input(\"Введіть комбінацію символів: \")\n",
    "\n",
    "if is_hidden(word, combination):\n",
    "    print(\"Yes\")\n",
    "else:\n",
    "    print(\"No\")"
   ],
   "metadata": {
    "cell_id": "e88fbe0416d3414cb14459d4bec6ae84",
    "source_hash": "eeb3677d",
    "execution_start": 1685004131356,
    "execution_millis": 101049,
    "deepnote_to_be_reexecuted": false,
    "deepnote_cell_type": "code"
   },
   "outputs": [
    {
     "name": "stdout",
     "text": "Yes\n",
     "output_type": "stream"
    }
   ],
   "execution_count": 6
  },
  {
   "cell_type": "markdown",
   "source": [
    "### Завдання 5\n",
    "\n",
    "Модифікувати код з __Прикладу 3__ таким чином, щоби виняток, який виникає при введені, оброблявся і забезпечував функціонування програми."
   ],
   "metadata": {
    "cell_id": "1a8c6031f28148888d8739101df89ed7",
    "deepnote_cell_type": "markdown"
   }
  },
  {
   "cell_type": "code",
   "source": [
    "def is_hidden(word, combination):\n",
    "    word = word.lower()\n",
    "    combination = combination.lower()\n",
    "\n",
    "    current_index = -1\n",
    "\n",
    "    for char in word:\n",
    "        current_index = combination.find(char, current_index + 1)\n",
    "\n",
    "        if current_index == -1:\n",
    "            return False\n",
    "\n",
    "    return True\n",
    "\n",
    "\n",
    "try:\n",
    "\n",
    "    word = input(\"Введіть слово: \")\n",
    "    combination = input(\"Введіть комбінацію символів: \")\n",
    "\n",
    "    if is_hidden(word, combination):\n",
    "        print(\"Yes\")\n",
    "    else:\n",
    "        print(\"No\")\n",
    "except Exception as e:\n",
    "    print(\"Сталася помилка:\", str(e))"
   ],
   "metadata": {
    "cell_id": "633137fdcc4249b8a833e2d1e413f6d2",
    "source_hash": "987e4e5c",
    "execution_start": 1685004302409,
    "execution_millis": 20554,
    "deepnote_to_be_reexecuted": false,
    "deepnote_cell_type": "code"
   },
   "outputs": [
    {
     "name": "stdout",
     "text": "Yes\n",
     "output_type": "stream"
    }
   ],
   "execution_count": 7
  },
  {
   "cell_type": "markdown",
   "source": [
    "### Завдання 6\n",
    "\n",
    "Ваше завдання -- написати функцію, здатну набувати цілочисельних значень і перевіряти, чи знаходяться вони в зазначеному діапазоні."
   ],
   "metadata": {
    "cell_id": "7576c55651f44dbf99da5a479101eb62",
    "deepnote_cell_type": "markdown"
   }
  },
  {
   "cell_type": "code",
   "source": [
    "def get_integer_input(prompt, min_value, max_value):\n",
    "    while True:\n",
    "        try:\n",
    "            value = int(input(prompt))\n",
    "            if value < min_value or value > max_value:\n",
    "                print(f\"Error: the value is not within permitted range ({min_value}..{max_value})\")\n",
    "            else:\n",
    "                return value\n",
    "        except ValueError:\n",
    "            print(\"Error: wrong input\")\n",
    "\n",
    "\n",
    "input_prompt = \"Введіть ціле число: \"\n",
    "min_value = 1\n",
    "max_value = 100\n",
    "\n",
    "integer_value = get_integer_input(input_prompt, min_value, max_value)\n",
    "print(f\"Введене число: {integer_value}\")"
   ],
   "metadata": {
    "cell_id": "dedb6a93de854714ae5dbdf57deb35e9",
    "source_hash": "edb405b6",
    "execution_start": 1685004370481,
    "execution_millis": 6998,
    "deepnote_to_be_reexecuted": false,
    "deepnote_cell_type": "code"
   },
   "outputs": [
    {
     "name": "stdout",
     "text": "Введене число: 5\n",
     "output_type": "stream"
    }
   ],
   "execution_count": 8
  },
  {
   "cell_type": "markdown",
   "source": [
    "### Відповіді на контрольні запитання\n",
    "<h5>Який із наступних рядків описує справжню умову?</h5>\n",
    "<li>Відповідь(Виконається блок except, і на екран буде виведено повідомлення \"We failed\". Після цього буде виведено повідомлення \"We're done\".)</li>\n",
    "<h5>Який очікуваний результат наступного коду?</h5>\n",
    "<li> Відповідь(zero) </li>"
   ],
   "metadata": {
    "cell_id": "135fe9602077460ca5fc8dbfbd747230",
    "deepnote_cell_type": "markdown"
   }
  },
  {
   "cell_type": "markdown",
   "source": [
    "<a style='text-decoration:none;line-height:16px;display:flex;color:#5B5B62;padding:10px;justify-content:end;' href='https://deepnote.com?utm_source=created-in-deepnote-cell&projectId=89ddd344-1ef7-423f-a0be-94096fc2d85a' target=\"_blank\">\n",
    "<img alt='Created in deepnote.com' style='display:inline;max-height:16px;margin:0px;margin-right:7.5px;' src='data:image/svg+xml;base64,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' > </img>\n",
    "Created in <span style='font-weight:600;margin-left:4px;'>Deepnote</span></a>"
   ],
   "metadata": {
    "created_in_deepnote_cell": true,
    "deepnote_cell_type": "markdown"
   }
  }
 ],
 "nbformat": 4,
 "nbformat_minor": 0,
 "metadata": {
  "deepnote": {},
  "kernelspec": {
   "name": "python3",
   "language": "python",
   "display_name": "Python 3 (ipykernel)"
  },
  "language_info": {
   "name": "python",
   "version": "3.11.3",
   "mimetype": "text/x-python",
   "file_extension": ".py",
   "pygments_lexer": "ipython3",
   "codemirror_mode": {
    "name": "ipython",
    "version": 3
   },
   "nbconvert_exporter": "python"
  },
  "deepnote_notebook_id": "fe6e5ef26d5c4dcd9a7f4a9f1bd1fcb0",
  "deepnote_execution_queue": []
 }
}
