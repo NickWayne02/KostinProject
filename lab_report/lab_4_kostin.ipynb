{
 "cells": [
  {
   "cell_type": "markdown",
   "source": [
    "#### 16.05.23, &copy; [Evhenii Kostin](https://www.linkedin.com/in/%D0%B5%D0%B2%D0%B3%D0%B5%D0%BD%D0%B8%D0%B9-%D0%BA%D0%BE%D1%81%D1%82%D0%B8%D0%BD-8287b0264/), 2023"
   ],
   "metadata": {
    "cell_id": "07b3421db98043bc9479b9ba89294d85",
    "deepnote_cell_type": "markdown"
   }
  },
  {
   "cell_type": "markdown",
   "source": [
    "# Лабораторна робота №4. Логічні значення. Умовне виконання. Цикли\n"
   ],
   "metadata": {
    "cell_id": "acd880e64f3644c4acc456e491f92b11",
    "deepnote_cell_type": "markdown"
   }
  },
  {
   "cell_type": "markdown",
   "source": [
    "__Мета:__ _освоїти роботу з логічними змінними, операторами розгалуження та операторами циклів_"
   ],
   "metadata": {
    "cell_id": "215a546880cf416295e5f2fffba34ffe",
    "deepnote_cell_type": "markdown"
   }
  },
  {
   "cell_type": "markdown",
   "source": [
    "### Завдання 1"
   ],
   "metadata": {
    "cell_id": "78e156a3fe914d4cb0572cdcccfb6a3b",
    "deepnote_cell_type": "markdown"
   }
  },
  {
   "cell_type": "code",
   "source": [
    "n = int(input(\"Введіть число: \"))\n",
    "print(n >= 100)\n"
   ],
   "metadata": {
    "cell_id": "073d6f4502cf4f1b9b37e2f55464d62f",
    "source_hash": "c86d1aa0",
    "execution_start": 1684943685851,
    "execution_millis": 5266,
    "deepnote_to_be_reexecuted": false,
    "deepnote_cell_type": "code"
   },
   "outputs": [
    {
     "name": "stdout",
     "text": "True\n",
     "output_type": "stream"
    }
   ],
   "execution_count": 1
  },
  {
   "cell_type": "markdown",
   "source": [
    "### Завдання 2"
   ],
   "metadata": {
    "cell_id": "efdb2bdf5575443eadc4c16c6220f2c4",
    "deepnote_cell_type": "markdown"
   }
  },
  {
   "cell_type": "code",
   "source": [
    "n1 = float(input(\"Введіть перше число: \"))\n",
    "n2 = float(input(\"Введіть друге число: \"))\n",
    "\n",
    "if n1 < n2:\n",
    "    print(\"число 1 < чмсло 2\")\n",
    "else:\n",
    "    print(\"число 1 > чмсло 2\")"
   ],
   "metadata": {
    "cell_id": "ba2deab8b857494a88f50d8541c65835",
    "source_hash": "59cc2e66",
    "execution_start": 1684943738963,
    "execution_millis": 3618,
    "deepnote_to_be_reexecuted": false,
    "deepnote_cell_type": "code"
   },
   "outputs": [
    {
     "name": "stdout",
     "text": "число 1 < чмсло 2\n",
     "output_type": "stream"
    }
   ],
   "execution_count": 2
  },
  {
   "cell_type": "markdown",
   "source": [
    "###  Завдання 3"
   ],
   "metadata": {
    "cell_id": "f4e8a10807914412bfc541c53fa83309",
    "deepnote_cell_type": "markdown"
   }
  },
  {
   "cell_type": "code",
   "source": [
    "sp = input(\"What is the best plant in the world? \\n\")\n",
    "\n",
    "if sp == \"Spathiphyllum\":\n",
    "    print(\"Yes - Spathiphyllum is the best plant ever!\")\n",
    "elif sp == \"spathiphyllum\":\n",
    "    print(\"No, I want a big Spathiphyllum!\")\n",
    "else:\n",
    "    print(\"Spathiphyllum! Not \", sp, \"!\")"
   ],
   "metadata": {
    "cell_id": "5aeebffed1674d08b23e5c3aa78ac266",
    "source_hash": "8ca99a83",
    "execution_start": 1684943791456,
    "execution_millis": 10353,
    "deepnote_to_be_reexecuted": false,
    "deepnote_cell_type": "code"
   },
   "outputs": [
    {
     "name": "stdout",
     "text": "Spathiphyllum! Not  pelargonium !\n",
     "output_type": "stream"
    }
   ],
   "execution_count": 3
  },
  {
   "cell_type": "markdown",
   "source": [
    "### Завдання 4"
   ],
   "metadata": {
    "cell_id": "8cd8e041ab1f47368412506a2f0cc612",
    "deepnote_cell_type": "markdown"
   }
  },
  {
   "cell_type": "code",
   "source": [
    "income = float(input(\"Enter the annual income: \"))\n",
    "\n",
    "if income <= 85528:\n",
    "    tax = (income / 100) * 18 - 556.02\n",
    "else:\n",
    "    tax = 14839.02 + (((income - 85528) / 100) * 32)\n",
    "if tax < 0:\n",
    "    tax = 0\n",
    "\n",
    "tax = round(tax, 0)\n",
    "print(\"The tax is:\", tax, \"thalers\")"
   ],
   "metadata": {
    "cell_id": "be611a29ad3b4134b3a6bca5d7251e60",
    "source_hash": "6cf42a77",
    "execution_start": 1684943836850,
    "execution_millis": 5662,
    "deepnote_to_be_reexecuted": false,
    "deepnote_cell_type": "code"
   },
   "outputs": [
    {
     "name": "stdout",
     "text": "The tax is: 1244.0 thalers\n",
     "output_type": "stream"
    }
   ],
   "execution_count": 4
  },
  {
   "cell_type": "markdown",
   "source": [
    "### Завдання 5"
   ],
   "metadata": {
    "cell_id": "2b104ffc157646a1a8f14a67653e3188",
    "deepnote_cell_type": "markdown"
   }
  },
  {
   "cell_type": "code",
   "source": [
    "year = int(input(\"Enter year: \"))\n",
    "\n",
    "if year < 1582:\n",
    "    print(\"Not within the Gregorian calendar period.\")\n",
    "else:\n",
    "    if year % 4 != 0:\n",
    "        print(\"Its Common year\")\n",
    "    else:\n",
    "        if year % 100 != 0:\n",
    "            print(\"Its Leap year\")\n",
    "        elif year % 400 != 0:\n",
    "            print(\"Its Common year\")\n",
    "        else:\n",
    "            print(\"Its Leap year\")"
   ],
   "metadata": {
    "cell_id": "8efa5ceab6084a4eb5bfa6dd3e568a7f",
    "source_hash": "71ab8390",
    "execution_start": 1684943876198,
    "execution_millis": 3087,
    "deepnote_to_be_reexecuted": false,
    "deepnote_cell_type": "code"
   },
   "outputs": [
    {
     "name": "stdout",
     "text": "Its Common year\n",
     "output_type": "stream"
    }
   ],
   "execution_count": 5
  },
  {
   "cell_type": "markdown",
   "source": [
    "### Завдання 6 "
   ],
   "metadata": {
    "cell_id": "6a906dde14ee4cbab67b8b5d16890219",
    "deepnote_cell_type": "markdown"
   }
  },
  {
   "cell_type": "code",
   "source": [
    "secret_number = 777\n",
    "\n",
    "print(\n",
    "\"\"\"\n",
    "+================================+\n",
    "| Welcome to my game, muggle!    |\n",
    "| Enter an integer number        |\n",
    "| and guess what number I've     |\n",
    "| picked for you.                |\n",
    "+================================+\n",
    "\"\"\")\n",
    "while 1:\n",
    "    number = int(input(\"Enter secret number: \"))\n",
    "    if number != secret_number:\n",
    "        print(\"Ха-ха! Ви застрягли у моїй петлі!\")\n",
    "    else:\n",
    "        print(\"Молодець, магле! Тепер ти вільний\")\n",
    "        break\n"
   ],
   "metadata": {
    "cell_id": "bd86b132e8b442a9a8bfcdb8797b5413",
    "source_hash": "27dc67d1",
    "execution_start": 1684943948431,
    "execution_millis": 7133,
    "deepnote_to_be_reexecuted": false,
    "deepnote_cell_type": "code"
   },
   "outputs": [
    {
     "name": "stdout",
     "text": "\n+================================+\n| Welcome to my game, muggle!    |\n| Enter an integer number        |\n| and guess what number I've     |\n| picked for you.                |\n+================================+\n\nМолодець, магле! Тепер ти вільний\n",
     "output_type": "stream"
    }
   ],
   "execution_count": 6
  },
  {
   "cell_type": "markdown",
   "source": [
    "### Завдання 7 "
   ],
   "metadata": {
    "cell_id": "9965e17152604984b04099fc7911477a",
    "deepnote_cell_type": "markdown"
   }
  },
  {
   "cell_type": "code",
   "source": [
    "import time\n",
    "for i in range(5):\n",
    "    print(i + 1, \" Mississippi\")\n",
    "    time.sleep(1)\n",
    "print(\"Ready or not, here I come!\")"
   ],
   "metadata": {
    "cell_id": "0bb84127937a420d91f33d05cd9bf57d",
    "source_hash": "83f44f27",
    "execution_start": 1684944018725,
    "execution_millis": 5007,
    "deepnote_to_be_reexecuted": false,
    "deepnote_cell_type": "code"
   },
   "outputs": [
    {
     "name": "stdout",
     "text": "1  Mississippi\n2  Mississippi\n3  Mississippi\n4  Mississippi\n5  Mississippi\nReady or not, here I come!\n",
     "output_type": "stream"
    }
   ],
   "execution_count": 8
  },
  {
   "cell_type": "markdown",
   "source": [
    "_Очикуваний вивід_\n",
    "\n",
    "`1 Mississippi`  \n",
    "`2 Mississippi`  \n",
    "`3 Mississippi`  \n",
    "`4 Mississippi`  \n",
    "`5 Mississippi`"
   ],
   "metadata": {
    "cell_id": "199c02a313be4376afc8970f9cfce1bc",
    "deepnote_cell_type": "markdown"
   }
  },
  {
   "cell_type": "markdown",
   "source": [
    "### Завдання 8 "
   ],
   "metadata": {
    "cell_id": "6c7ae89de0a3493c8e467335e3f80a37",
    "deepnote_cell_type": "markdown"
   }
  },
  {
   "cell_type": "code",
   "source": [
    "while 1:\n",
    "    word = (input(\"enter word: \"))\n",
    "    if word != \"chupacabra\":\n",
    "        break\n",
    "print(\"You've successfully left the loop.\")"
   ],
   "metadata": {
    "cell_id": "e5dd712423164b71b0f2ed9f65eecc95",
    "source_hash": "33a8706f",
    "execution_start": 1684944045855,
    "execution_millis": 10636,
    "deepnote_to_be_reexecuted": false,
    "deepnote_cell_type": "code"
   },
   "outputs": [
    {
     "name": "stdout",
     "text": "You've successfully left the loop.\n",
     "output_type": "stream"
    }
   ],
   "execution_count": 9
  },
  {
   "cell_type": "markdown",
   "source": [
    "### Завдання 9"
   ],
   "metadata": {
    "cell_id": "73968bb9684b4973bc30764a1394aef2",
    "deepnote_cell_type": "markdown"
   }
  },
  {
   "cell_type": "code",
   "source": [
    "user_word = input(\"Введіть слово: \")\n",
    "user_word = user_word.upper()\n",
    "\n",
    "for i in range(len(user_word)):\n",
    "    if user_word[i] == \"A\":\n",
    "        continue\n",
    "    elif user_word[i] == \"O\":\n",
    "        continue\n",
    "    elif user_word[i] == \"I\":\n",
    "        continue\n",
    "    elif user_word[i] == \"U\":\n",
    "        continue\n",
    "    elif user_word[i] == \"E\":\n",
    "        continue\n",
    "    print(user_word[i])"
   ],
   "metadata": {
    "cell_id": "2cf914271f8c4b57b9d5e53ec94e3891",
    "source_hash": "ab6fc994",
    "execution_start": 1684944096987,
    "execution_millis": 11177,
    "deepnote_to_be_reexecuted": false,
    "deepnote_cell_type": "code"
   },
   "outputs": [
    {
     "name": "stdout",
     "text": "G\nR\nG\nR\nY\n",
     "output_type": "stream"
    }
   ],
   "execution_count": 10
  },
  {
   "cell_type": "markdown",
   "source": [
    "### Завдання 10"
   ],
   "metadata": {
    "cell_id": "be56b0c6c67c45a1ab6b5088cd5969fe",
    "deepnote_cell_type": "markdown"
   }
  },
  {
   "cell_type": "code",
   "source": [
    "word_without_vowels = \"\"\n",
    "user_word = input(\"Введіть слово: \")\n",
    "user_word = user_word.upper()\n",
    "\n",
    "for i in range(len(user_word)):\n",
    "    if user_word[i] == \"A\":\n",
    "        continue\n",
    "    elif user_word[i] == \"O\":\n",
    "        continue\n",
    "    elif user_word[i] == \"I\":\n",
    "        continue\n",
    "    elif user_word[i] == \"U\":\n",
    "        continue\n",
    "    elif user_word[i] == \"E\":\n",
    "        continue\n",
    "    word_without_vowels += user_word[i]\n",
    "print(word_without_vowels)"
   ],
   "metadata": {
    "cell_id": "cf13cbf19391455880c8b787eeb50294",
    "source_hash": "d83333ac",
    "execution_start": 1684944135230,
    "execution_millis": 65034,
    "deepnote_to_be_reexecuted": false,
    "deepnote_cell_type": "code"
   },
   "outputs": [
    {
     "name": "stdout",
     "text": "BSTMS\n",
     "output_type": "stream"
    }
   ],
   "execution_count": 11
  },
  {
   "cell_type": "markdown",
   "source": [
    "### Завдання 11"
   ],
   "metadata": {
    "cell_id": "6ce4377c2e29434c977862c9f27237d9",
    "deepnote_cell_type": "markdown"
   }
  },
  {
   "cell_type": "code",
   "source": [
    "block = int(input(\"Enter number of вricks: \"))\n",
    "height = 0\n",
    "count = 1\n",
    "while count <= block:\n",
    "    block -= count\n",
    "    count += 1\n",
    "    height += 1\n",
    "print(\"The height of the pyramid: \", height)"
   ],
   "metadata": {
    "cell_id": "6da838350f3a4609bba908dbeb62e585",
    "source_hash": "32bf5400",
    "execution_start": 1684944234978,
    "execution_millis": 4291,
    "deepnote_to_be_reexecuted": false,
    "deepnote_cell_type": "code"
   },
   "outputs": [
    {
     "name": "stdout",
     "text": "The height of the pyramid:  44\n",
     "output_type": "stream"
    }
   ],
   "execution_count": 12
  },
  {
   "cell_type": "markdown",
   "source": [
    "### Завдання 12"
   ],
   "metadata": {
    "cell_id": "4a8be0378d644aa5b384c0794d9c3358",
    "deepnote_cell_type": "markdown"
   }
  },
  {
   "cell_type": "code",
   "source": [
    "step = 0\n",
    "while 1:\n",
    "    c0 = int(input(\"Введіть не від’ємне число:\"))\n",
    "    if c0 <= 0:\n",
    "        print(\"Число неправильне! Повторіть знову!\")\n",
    "    else:\n",
    "        break\n",
    "while c0 != 1:\n",
    "    if c0 % 2 == 0:\n",
    "        c0 = c0 / 2\n",
    "    else:\n",
    "        c0 = 3 * c0 + 1\n",
    "    print(int(c0))\n",
    "    step += 1\n",
    "print(\"steps =\", step)\n"
   ],
   "metadata": {
    "cell_id": "96ea6a5c56be42e48db063fca0f4c451",
    "source_hash": "2ee9aa91",
    "execution_start": 1684944269401,
    "execution_millis": 3472,
    "deepnote_to_be_reexecuted": false,
    "deepnote_cell_type": "code"
   },
   "outputs": [
    {
     "name": "stdout",
     "text": "46\n23\n70\n35\n106\n53\n160\n80\n40\n20\n10\n5\n16\n8\n4\n2\n1\nsteps = 17\n",
     "output_type": "stream"
    }
   ],
   "execution_count": 13
  },
  {
   "cell_type": "markdown",
   "source": [
    "### Відповіді на контрольні запитання\n",
    "\n",
    "1. Який вивід наступного фрагмента?\n",
    "False \n",
    "True\n",
    "\n",
    "2. Який вивід наступного фрагмента?\n",
    "False \n",
    "True\n",
    "\n",
    "3. Який вивід наступного фрагмента?\n",
    "True \n",
    "False"
   ],
   "metadata": {
    "cell_id": "5b1e453efabc4300b9eb6b4d15d1df34",
    "deepnote_cell_type": "markdown"
   }
  },
  {
   "cell_type": "markdown",
   "source": [
    "<a style='text-decoration:none;line-height:16px;display:flex;color:#5B5B62;padding:10px;justify-content:end;' href='https://deepnote.com?utm_source=created-in-deepnote-cell&projectId=89ddd344-1ef7-423f-a0be-94096fc2d85a' target=\"_blank\">\n",
    "<img alt='Created in deepnote.com' style='display:inline;max-height:16px;margin:0px;margin-right:7.5px;' src='data:image/svg+xml;base64,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' > </img>\n",
    "Created in <span style='font-weight:600;margin-left:4px;'>Deepnote</span></a>"
   ],
   "metadata": {
    "created_in_deepnote_cell": true,
    "deepnote_cell_type": "markdown"
   }
  }
 ],
 "nbformat": 4,
 "nbformat_minor": 0,
 "metadata": {
  "deepnote": {},
  "kernelspec": {
   "name": "python3",
   "language": "python",
   "display_name": "Python 3 (ipykernel)"
  },
  "language_info": {
   "name": "python",
   "version": "3.10.9",
   "mimetype": "text/x-python",
   "file_extension": ".py",
   "pygments_lexer": "ipython3",
   "codemirror_mode": {
    "name": "ipython",
    "version": 3
   },
   "nbconvert_exporter": "python"
  },
  "deepnote_notebook_id": "391ff5d00ae649319533dbdeb16faf9b",
  "deepnote_execution_queue": []
 }
}
