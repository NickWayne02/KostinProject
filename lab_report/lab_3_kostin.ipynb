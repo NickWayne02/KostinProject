{
 "cells": [
  {
   "cell_type": "markdown",
   "source": [
    "#### 16.05.23, &copy; [Evhenii Kostin](https://www.linkedin.com/in/%D0%B5%D0%B2%D0%B3%D0%B5%D0%BD%D0%B8%D0%B9-%D0%BA%D0%BE%D1%81%D1%82%D0%B8%D0%BD-8287b0264/), 2023"
   ],
   "metadata": {
    "cell_id": "d7ea4384427e4296ab998ce2748ad006",
    "deepnote_cell_type": "markdown"
   }
  },
  {
   "cell_type": "markdown",
   "source": [
    "# Лабораторна робота №3. Змінні. Базові операції вводу/виводу"
   ],
   "metadata": {
    "cell_id": "2bbae26933a6470e866f80e62f301fc2",
    "deepnote_cell_type": "markdown"
   }
  },
  {
   "cell_type": "markdown",
   "source": [
    "__Мета:__ _освоїти роботу зі змінними та операції вводу і виводу_"
   ],
   "metadata": {
    "cell_id": "d28900d7c3b24adaa4a523e64b9ab191",
    "deepnote_cell_type": "markdown"
   }
  },
  {
   "cell_type": "markdown",
   "source": [
    "### Завдання № 1\n"
   ],
   "metadata": {
    "cell_id": "27a518b352e446fea0aca73d400fc93a",
    "deepnote_cell_type": "markdown"
   }
  },
  {
   "cell_type": "code",
   "source": [
    "import math\n",
    "# pi = 3.14\n",
    "x = float(input(\"Enter x: \"))\n",
    "sigma = float(input(\"Enter o: \"))\n",
    "mu = float(input(\"Enter u: \"))\n",
    "f = (1 / sigma * (2 * math.pi) ** 0.5) * math.exp(-(((x - mu) ** 2 ) / (2 * sigma ** 2)))\n",
    "print(\"f(x) = \", f)"
   ],
   "metadata": {
    "cell_id": "3e3e003c6e0e4908a6a2e50612491911",
    "source_hash": "5929421f",
    "execution_start": 1684942755671,
    "execution_millis": 18191,
    "deepnote_to_be_reexecuted": false,
    "deepnote_cell_type": "code"
   },
   "outputs": [
    {
     "name": "stdout",
     "text": "f(x) =  0.35445435593293156\n",
     "output_type": "stream"
    }
   ],
   "execution_count": 1
  },
  {
   "cell_type": "markdown",
   "source": [
    "###  Завдання № 2"
   ],
   "metadata": {
    "cell_id": "2fb6ba3b96354099b7ffacdca5840d7f",
    "deepnote_cell_type": "markdown"
   }
  },
  {
   "cell_type": "code",
   "source": [
    "john = 3\n",
    "mary = 5\n",
    "adam = 6\n",
    "\n",
    "print(john, mary, adam, sep=\" , \")\n",
    "\n",
    "totalApple = john + mary + adam\n",
    "\n",
    "print(\"Загальна кількість яблук: \", totalApple)\n",
    "# Тут маєбути Ваш код"
   ],
   "metadata": {
    "cell_id": "6391259320b74986a9bd52035cec93cc",
    "source_hash": "b7722386",
    "execution_start": 1684942881607,
    "execution_millis": 2,
    "deepnote_to_be_reexecuted": false,
    "deepnote_cell_type": "code"
   },
   "outputs": [
    {
     "name": "stdout",
     "text": "3 , 5 , 6\nЗагальна кількість яблук:  14\n",
     "output_type": "stream"
    }
   ],
   "execution_count": 2
  },
  {
   "cell_type": "markdown",
   "source": [
    "### Завдання № 3"
   ],
   "metadata": {
    "cell_id": "c8f6fa9445d8404282fb64c7b3b787c6",
    "deepnote_cell_type": "markdown"
   }
  },
  {
   "cell_type": "code",
   "source": [
    "kilometers = 12.25\n",
    "miles = 7.38\n",
    "\n",
    "miles_to_kilometers = miles * 1.61\n",
    "kilometers_to_miles = kilometers / 1.61\n",
    "\n",
    "print(miles, \"миль\", round(miles_to_kilometers, 2), \"кілометрів\")\n",
    "print(kilometers, \"кілометрів\", round(kilometers_to_miles, 2), \"миль\")"
   ],
   "metadata": {
    "cell_id": "2ddf5238e03449a7803d04966ca22c70",
    "source_hash": "edfceac2",
    "execution_start": 1684942923616,
    "execution_millis": 2,
    "deepnote_to_be_reexecuted": false,
    "deepnote_cell_type": "code"
   },
   "outputs": [
    {
     "name": "stdout",
     "text": "7.38 миль 11.88 кілометрів\n12.25 кілометрів 7.61 миль\n",
     "output_type": "stream"
    }
   ],
   "execution_count": 3
  },
  {
   "cell_type": "markdown",
   "source": [
    "### Завдання № 4"
   ],
   "metadata": {
    "cell_id": "1c572adf1b954bb39fc9f14521523783",
    "deepnote_cell_type": "markdown"
   }
  },
  {
   "cell_type": "code",
   "source": [
    "x = 0.\n",
    "y = (3 * x ** 3) - (2 * x ** 2) + (3 ** x) - 1\n",
    "\n",
    "print(\"x = 0 \\ny = \", y)\n",
    "\n",
    "x = 1.\n",
    "y = (3 * x ** 3) - (2 * x ** 2) + (3 ** x) - 1\n",
    "\n",
    "print(\"x = 1 \\ny = \", y)\n",
    "\n",
    "x = -1.\n",
    "y = (3 * x ** 3) - (2 * x ** 2) + (3 ** x) - 1\n",
    "\n",
    "print(\"x = -1 \\ny = \", y)"
   ],
   "metadata": {
    "cell_id": "afccbd9c2caa4f40bd27768bf03626a3",
    "source_hash": "bcaa2650",
    "execution_start": 1684942985043,
    "execution_millis": 1,
    "deepnote_to_be_reexecuted": false,
    "deepnote_cell_type": "code"
   },
   "outputs": [
    {
     "name": "stdout",
     "text": "x = 0 \ny =  0.0\nx = 1 \ny =  3.0\nx = -1 \ny =  -5.666666666666667\n",
     "output_type": "stream"
    }
   ],
   "execution_count": 4
  },
  {
   "cell_type": "markdown",
   "source": [
    "### Завдання № 5 "
   ],
   "metadata": {
    "cell_id": "969256f4e59f4df79d9493d46b188e6d",
    "deepnote_cell_type": "markdown"
   }
  },
  {
   "cell_type": "code",
   "source": [
    "number_of_hours = 2\n",
    "seconds_in_hour = 3600\n",
    "\n",
    "print(\"Годин: \", number_of_hours)\n",
    "print(\"Секунд в годинах: \", number_of_hours * seconds_in_hour)\n",
    "\n",
    "print(\"Бувай\")\n"
   ],
   "metadata": {
    "cell_id": "7e5e1d0eb9924a8b941ee580da5ee409",
    "source_hash": "bdb828d7",
    "execution_start": 1684943009545,
    "execution_millis": 6,
    "deepnote_to_be_reexecuted": false,
    "deepnote_cell_type": "code"
   },
   "outputs": [
    {
     "name": "stdout",
     "text": "Годин:  2\nСекунд в годинах:  7200\nБувай\n",
     "output_type": "stream"
    }
   ],
   "execution_count": 5
  },
  {
   "cell_type": "markdown",
   "source": [
    "### Завдання № 6 "
   ],
   "metadata": {
    "cell_id": "cc28dbf280534b5abb9c863e063bb63e",
    "deepnote_cell_type": "markdown"
   }
  },
  {
   "cell_type": "code",
   "source": [
    "a = float(input(\"Введіть a: \"))\n",
    "b = float(input(\"Введіть b:\"))\n",
    "\n",
    "print(\"a + b = \", a + b)\n",
    "print(\"a - b = \", a - b)\n",
    "if b == 0:\n",
    "    print(\"Не можна ділити на нуль\")\n",
    "else:\n",
    "    print(\"a / b = \", a / b)\n",
    "print(\"a * b = \", a * b)\n",
    "\n",
    "\n",
    "print(\"\\nThat's all, folks!\")\n"
   ],
   "metadata": {
    "cell_id": "067b4e4826b943919adaebf52743c398",
    "source_hash": "4ddcfe7b",
    "execution_start": 1684943041580,
    "execution_millis": 8559,
    "deepnote_to_be_reexecuted": false,
    "deepnote_cell_type": "code"
   },
   "outputs": [
    {
     "name": "stdout",
     "text": "a + b =  5.0\na - b =  3.0\na / b =  4.0\na * b =  4.0\n\nThat's all, folks!\n",
     "output_type": "stream"
    }
   ],
   "execution_count": 6
  },
  {
   "cell_type": "markdown",
   "source": [
    "### Завдання № 7 "
   ],
   "metadata": {
    "cell_id": "ca7ca23a96dd4cbfb8232a2a05802a8d",
    "deepnote_cell_type": "markdown"
   }
  },
  {
   "cell_type": "code",
   "source": [
    "x = float(input(\"Enter value for x: \"))\n",
    "y = 1/(x + 1/(x + 1/(x + 1/(x + 1/x))))\n",
    "print(\"y =\", y)"
   ],
   "metadata": {
    "cell_id": "a87c36c17f83487ebecb1ccf92eecafa",
    "source_hash": "3873dd1e",
    "execution_start": 1684943147406,
    "execution_millis": 5655,
    "deepnote_to_be_reexecuted": false,
    "deepnote_cell_type": "code"
   },
   "outputs": [
    {
     "name": "stdout",
     "text": "y = -0.19258241758241756\n",
     "output_type": "stream"
    }
   ],
   "execution_count": 9
  },
  {
   "cell_type": "markdown",
   "source": [
    "### Завдання № 8"
   ],
   "metadata": {
    "cell_id": "764c07fb9a7244018a60a238521b3380",
    "deepnote_cell_type": "markdown"
   }
  },
  {
   "cell_type": "code",
   "source": [
    "hour = int(input(\"Starting time (hours): \"))\n",
    "mins = int(input(\"Starting time (minutes): \"))\n",
    "dura = int(input(\"Event duration (minutes): \"))\n",
    "\n",
    "hour *= 60\n",
    "hour += mins + dura\n",
    "mins = hour % 60\n",
    "hour = int(hour / 60)\n",
    "hour = hour % 24\n",
    "\n",
    "print(hour, \":\", mins)"
   ],
   "metadata": {
    "cell_id": "fbc873099a13482bafde14dd340f7af4",
    "source_hash": "66c3882f",
    "execution_start": 1684943193247,
    "execution_millis": 10912,
    "deepnote_to_be_reexecuted": false,
    "deepnote_cell_type": "code"
   },
   "outputs": [
    {
     "name": "stdout",
     "text": "10 : 45\n",
     "output_type": "stream"
    }
   ],
   "execution_count": 10
  },
  {
   "cell_type": "markdown",
   "source": [
    "### Відповіді на контрольні запитання\n",
    "\n",
    "1. 55\n",
    "2. class = 'str'"
   ],
   "metadata": {
    "cell_id": "1831239922b648789598f3b66fd8c8d1",
    "deepnote_cell_type": "markdown"
   }
  },
  {
   "cell_type": "markdown",
   "source": [
    "<a style='text-decoration:none;line-height:16px;display:flex;color:#5B5B62;padding:10px;justify-content:end;' href='https://deepnote.com?utm_source=created-in-deepnote-cell&projectId=89ddd344-1ef7-423f-a0be-94096fc2d85a' target=\"_blank\">\n",
    "<img alt='Created in deepnote.com' style='display:inline;max-height:16px;margin:0px;margin-right:7.5px;' src='data:image/svg+xml;base64,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' > </img>\n",
    "Created in <span style='font-weight:600;margin-left:4px;'>Deepnote</span></a>"
   ],
   "metadata": {
    "created_in_deepnote_cell": true,
    "deepnote_cell_type": "markdown"
   }
  }
 ],
 "nbformat": 4,
 "nbformat_minor": 0,
 "metadata": {
  "deepnote": {},
  "kernelspec": {
   "name": "python3",
   "language": "python",
   "display_name": "Python 3 (ipykernel)"
  },
  "language_info": {
   "name": "python",
   "version": "3.10.9",
   "mimetype": "text/x-python",
   "file_extension": ".py",
   "pygments_lexer": "ipython3",
   "codemirror_mode": {
    "name": "ipython",
    "version": 3
   },
   "nbconvert_exporter": "python"
  },
  "deepnote_notebook_id": "d8053e98e2804462a176e91bbd29e091",
  "deepnote_execution_queue": []
 }
}
