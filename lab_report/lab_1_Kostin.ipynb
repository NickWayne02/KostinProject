{
 "cells": [
  {
   "cell_type": "markdown",
   "source": [
    "#### 16.05.23, &copy; [Evhenii Kostin](https://www.linkedin.com/in/%D0%B5%D0%B2%D0%B3%D0%B5%D0%BD%D0%B8%D0%B9-%D0%BA%D0%BE%D1%81%D1%82%D0%B8%D0%BD-8287b0264/), 2023"
   ],
   "metadata": {
    "cell_id": "58aa57443d944e4182c9b228dfd29b44",
    "deepnote_cell_type": "markdown"
   }
  },
  {
   "cell_type": "markdown",
   "source": [
    "# Лабораторна робота №1. Інсталяція та налаштування Python-середовища"
   ],
   "metadata": {
    "cell_id": "c72d21267350475795895c4d93a9f3d3",
    "deepnote_cell_type": "markdown"
   }
  },
  {
   "cell_type": "markdown",
   "source": [
    "__Мета:__ _quick start для роботи з python3 у середовищі IDE PyCharm системою контроля версій git._"
   ],
   "metadata": {
    "cell_id": "c8ffaca7901c4053894144bad6a41099",
    "deepnote_cell_type": "markdown"
   }
  },
  {
   "cell_type": "markdown",
   "source": [
    "1. Завантажив і встановив Python.\n",
    "![](image/python.png)\n",
    "2. Завантажив, встановив та налаштував IDE JetBrains PyCharm.\n",
    "![](image/pycharm.png)\n",
    "\n",
    "3. Завантажив, встановив і налаштував систему контролю версій Git.\n",
    "![](image/git.png)\n",
    "\n",
    "4. Створив акаунт на GitHub та створив в ньому новий проєкт з іменем __<Kostin_project>__. \n",
    "![](image/pr.png) \n",
    "\n",
    "5. Створив файл lab_1_Kostin.py з кодом, який виводить фразу \"Привіт, Костін!\" \n",
    "![](image/hello.png) \n",
    "\n",
    "6. Закомітив файл у локальний репозиторій за допомогою засобів PyCharm.\n",
    "![](image/commit.png)\n",
    "![](image/commit1.png)\n",
    "\n",
    "7. Запушив поточну версію Git-проєкта у віддалений репозиторій на [GitHub](https://github.com/NickWayne02/KostinProject/tree/master).\n",
    "![](image/push.png)\n"
   ],
   "metadata": {
    "cell_id": "6e1a29deb8f445cf801c807860189be6",
    "deepnote_cell_type": "markdown"
   }
  },
  {
   "cell_type": "markdown",
   "source": [
    "<h2 align=\"center\">Контрольні запитання</h2>\n",
    "1. У чому відмінність інтерпретатора від компілятора? Python - компілятор чи інтерпретатор?\n",
    "\n",
    "   _Відмінностей дві:\n",
    "   Інтерпретатор не займається створенням машинного коду. Натомість він викликає для кожної команди, що інтерпретується, спеціальну функцію (що є частиною коду інтерпретатора), яка і роблять всю роботу._\n",
    "\n",
    "   _Компілятор (як звичайний, так і JIT) спочатку генерує машинний код, який потім згодовується процесору для безпосереднього виконання._\n",
    "\n",
    "   _Компілятор робить всю роботу один раз (при складанні програми), а інтерпретатор - щоразу при читанні чергової інструкції. Тобто при компілюванні накладні витрати виконання менші, а отже, вища швидкість роботи кінцевого коду._\n",
    "      _Python - інтерпретатор_\n",
    "\n",
    "2. Що таке IDE PyCharm?\n",
    "   _PyCharm — інтегроване середовище розробки для мови програмування Python. Надає засоби для аналізу коду, графічний зневаджувач, інструмент для запуску юніт-тестів і підтримує веброзробку на Django._\n",
    "\n",
    "3. Що таке система контроля версій (СКВ) і для чого вона призначена? У чому принципова відмінність СКВ svn та git?\n",
    "   _Система керування версіями  — програмний інструмент для керування версіями одиниці інформації: початкового коду програми, скрипту, вебсторінки, вебсайту, 3D-моделі, текстового документу тощо._\n",
    "   \n",
    "   _Система керування версіями — інструмент, який дозволяє одночасно, не заважаючи один одному, проводити роботу над груповими проєктами._\n",
    "\n",
    "   _Системи керування версіями зазвичай використовуються при розробці програмного забезпечення для відстеження, документування та контролю над поступовими змінами в електронних документах: у сирцевому коді застосунків, кресленнях, електронних моделях та інших документах, над змінами яких одночасно працюють декілька людей._\n",
    "\n",
    "   _GIT розподіляється, а SVN – ні. Іншими словами, якщо є кілька розробників, що працюють з репозиторієм, у кожного на локальній машині буде ПОВНА копія цього репозиторію. Зрозуміло, є десь і центральна машина, з якої можна клонувати репозиторій. Це нагадує SVN. Основний плюс у тому, що якщо раптом у вас немає доступу до інтернету, є можливість працювати з репозиторієм. Потім лише один раз зробити синхронізацію і всі інші розробники отримають повну історію. GIT зберігає метадані змін, а SVN – цілі файли. Це економить місце та час. Система створення branches, versions та інше у GIT та SVN відрізняються значно. У GIT простіше переключаться з гілки на гілку, робити merge між ними._ \n",
    "   \n",
    "4. Що відбувається при виконанні команди `git add .`?\n",
    "     _Додає зміну з робочого каталогу в розділ проіндексованих файлів_\n",
    "\n",
    "5. Що відбувається при виконанні команди `git commit`?\n",
    "     _Робить для проекту знімок поточного стану змін, доданих до розділу проіндексованих файлів_\n",
    "\n",
    "6. Якою git-командою виконується розміщення локальної копії git-репозиторію проєкта на віддаленому, що знаходиться на GitHub?\n",
    "     _git push -u origin master_"
   ],
   "metadata": {
    "cell_id": "c26c20bc25aa41b3889eb4e3e03643bc",
    "deepnote_cell_type": "markdown"
   }
  },
  {
   "cell_type": "markdown",
   "source": [
    "<a style='text-decoration:none;line-height:16px;display:flex;color:#5B5B62;padding:10px;justify-content:end;' href='https://deepnote.com?utm_source=created-in-deepnote-cell&projectId=89ddd344-1ef7-423f-a0be-94096fc2d85a' target=\"_blank\">\n",
    "<img alt='Created in deepnote.com' style='display:inline;max-height:16px;margin:0px;margin-right:7.5px;' src='data:image/svg+xml;base64,PD94bWwgdmVyc2lvbj0iMS4wIiBlbmNvZGluZz0iVVRGLTgiPz4KPHN2ZyB3aWR0aD0iODBweCIgaGVpZ2h0PSI4MHB4IiB2aWV3Qm94PSIwIDAgODAgODAiIHZlcnNpb249IjEuMSIgeG1sbnM9Imh0dHA6Ly93d3cudzMub3JnLzIwMDAvc3ZnIiB4bWxuczp4bGluaz0iaHR0cDovL3d3dy53My5vcmcvMTk5OS94bGluayI+CiAgICA8IS0tIEdlbmVyYXRvcjogU2tldGNoIDU0LjEgKDc2NDkwKSAtIGh0dHBzOi8vc2tldGNoYXBwLmNvbSAtLT4KICAgIDx0aXRsZT5Hcm91cCAzPC90aXRsZT4KICAgIDxkZXNjPkNyZWF0ZWQgd2l0aCBTa2V0Y2guPC9kZXNjPgogICAgPGcgaWQ9IkxhbmRpbmciIHN0cm9rZT0ibm9uZSIgc3Ryb2tlLXdpZHRoPSIxIiBmaWxsPSJub25lIiBmaWxsLXJ1bGU9ImV2ZW5vZGQiPgogICAgICAgIDxnIGlkPSJBcnRib2FyZCIgdHJhbnNmb3JtPSJ0cmFuc2xhdGUoLTEyMzUuMDAwMDAwLCAtNzkuMDAwMDAwKSI+CiAgICAgICAgICAgIDxnIGlkPSJHcm91cC0zIiB0cmFuc2Zvcm09InRyYW5zbGF0ZSgxMjM1LjAwMDAwMCwgNzkuMDAwMDAwKSI+CiAgICAgICAgICAgICAgICA8cG9seWdvbiBpZD0iUGF0aC0yMCIgZmlsbD0iIzAyNjVCNCIgcG9pbnRzPSIyLjM3NjIzNzYyIDgwIDM4LjA0NzY2NjcgODAgNTcuODIxNzgyMiA3My44MDU3NTkyIDU3LjgyMTc4MjIgMzIuNzU5MjczOSAzOS4xNDAyMjc4IDMxLjY4MzE2ODMiPjwvcG9seWdvbj4KICAgICAgICAgICAgICAgIDxwYXRoIGQ9Ik0zNS4wMDc3MTgsODAgQzQyLjkwNjIwMDcsNzYuNDU0OTM1OCA0Ny41NjQ5MTY3LDcxLjU0MjI2NzEgNDguOTgzODY2LDY1LjI2MTk5MzkgQzUxLjExMjI4OTksNTUuODQxNTg0MiA0MS42NzcxNzk1LDQ5LjIxMjIyODQgMjUuNjIzOTg0Niw0OS4yMTIyMjg0IEMyNS40ODQ5Mjg5LDQ5LjEyNjg0NDggMjkuODI2MTI5Niw0My4yODM4MjQ4IDM4LjY0NzU4NjksMzEuNjgzMTY4MyBMNzIuODcxMjg3MSwzMi41NTQ0MjUgTDY1LjI4MDk3Myw2Ny42NzYzNDIxIEw1MS4xMTIyODk5LDc3LjM3NjE0NCBMMzUuMDA3NzE4LDgwIFoiIGlkPSJQYXRoLTIyIiBmaWxsPSIjMDAyODY4Ij48L3BhdGg+CiAgICAgICAgICAgICAgICA8cGF0aCBkPSJNMCwzNy43MzA0NDA1IEwyNy4xMTQ1MzcsMC4yNTcxMTE0MzYgQzYyLjM3MTUxMjMsLTEuOTkwNzE3MDEgODAsMTAuNTAwMzkyNyA4MCwzNy43MzA0NDA1IEM4MCw2NC45NjA0ODgyIDY0Ljc3NjUwMzgsNzkuMDUwMzQxNCAzNC4zMjk1MTEzLDgwIEM0Ny4wNTUzNDg5LDc3LjU2NzA4MDggNTMuNDE4MjY3Nyw3MC4zMTM2MTAzIDUzLjQxODI2NzcsNTguMjM5NTg4NSBDNTMuNDE4MjY3Nyw0MC4xMjg1NTU3IDM2LjMwMzk1NDQsMzcuNzMwNDQwNSAyNS4yMjc0MTcsMzcuNzMwNDQwNSBDMTcuODQzMDU4NiwzNy43MzA0NDA1IDkuNDMzOTE5NjYsMzcuNzMwNDQwNSAwLDM3LjczMDQ0MDUgWiIgaWQ9IlBhdGgtMTkiIGZpbGw9IiMzNzkzRUYiPjwvcGF0aD4KICAgICAgICAgICAgPC9nPgogICAgICAgIDwvZz4KICAgIDwvZz4KPC9zdmc+' > </img>\n",
    "Created in <span style='font-weight:600;margin-left:4px;'>Deepnote</span></a>"
   ],
   "metadata": {
    "created_in_deepnote_cell": true,
    "deepnote_cell_type": "markdown"
   }
  }
 ],
 "nbformat": 4,
 "nbformat_minor": 0,
 "metadata": {
  "deepnote": {},
  "kernelspec": {
   "name": "python3",
   "language": "python",
   "display_name": "Python 3 (ipykernel)"
  },
  "language_info": {
   "name": "python",
   "version": "3.10.9",
   "mimetype": "text/x-python",
   "file_extension": ".py",
   "pygments_lexer": "ipython3",
   "codemirror_mode": {
    "name": "ipython",
    "version": 3
   },
   "nbconvert_exporter": "python"
  },
  "deepnote_notebook_id": "d1e6f59be70f41fe879cac6fe6835a3b",
  "deepnote_execution_queue": []
 }
}
