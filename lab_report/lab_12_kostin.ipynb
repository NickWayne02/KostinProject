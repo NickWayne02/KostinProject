{
 "cells": [
  {
   "cell_type": "markdown",
   "source": [
    "#### 16.05.23, &copy; [Evhenii Kostin](https://www.linkedin.com/in/%D0%B5%D0%B2%D0%B3%D0%B5%D0%BD%D0%B8%D0%B9-%D0%BA%D0%BE%D1%81%D1%82%D0%B8%D0%BD-8287b0264/), 2023"
   ],
   "metadata": {
    "cell_id": "21d9ba1e2ee5438a8ad3b6030fb36131",
    "deepnote_cell_type": "markdown"
   }
  },
  {
   "cell_type": "markdown",
   "source": [
    "# Лабораторна робота №12. Об'єктно-орієнтоване програмування. Частина ІІ"
   ],
   "metadata": {
    "cell_id": "114ee614f3444795b03d32fa61460311",
    "deepnote_cell_type": "markdown"
   }
  },
  {
   "cell_type": "markdown",
   "source": [
    "__Мета:__ _навчитися програмувати в стилі об'єектно-орієнтованого програмування._"
   ],
   "metadata": {
    "cell_id": "a87735de5d694b148866d5ff7b0d6b4f",
    "deepnote_cell_type": "markdown"
   }
  },
  {
   "cell_type": "markdown",
   "source": [
    "### Завдання 1\n",
    "\n",
    "Ваш клас буде називатися `Timer`. Його конструктор приймає три аргументи, що представляють годинник (значення з діапазону [0..23] - ми будемо використовувати воєнний час), хвилини (з діапазону [0..59]) та секунди (з діапазону [0..59])."
   ],
   "metadata": {
    "cell_id": "adbe093768cf43b39be38397a3a4b816",
    "deepnote_cell_type": "markdown"
   }
  },
  {
   "cell_type": "code",
   "source": [
    "class Timer:\n",
    "    def __init__(self, hour=0, minute=0, second=0):\n",
    "        self.__hour = hour\n",
    "        self.__minute = minute\n",
    "        self.__second = second\n",
    "\n",
    "    def __str__(self):\n",
    "        return f\"{self.__format_time(self.__hour)}:{self.__format_time(self.__minute)}:{self.__format_time(self.__second)}\"\n",
    "\n",
    "    def __format_time(self, time):\n",
    "        if time < 10:\n",
    "            return f\"0{time}\"\n",
    "        return str(time)\n",
    "\n",
    "    def next_second(self):\n",
    "        self.__second += 1\n",
    "        if self.__second == 60:\n",
    "            self.__second = 0\n",
    "            self.__minute += 1\n",
    "            if self.__minute == 60:\n",
    "                self.__minute = 0\n",
    "                self.__hour += 1\n",
    "                if self.__hour == 24:\n",
    "                    self.__hour = 0\n",
    "\n",
    "    def previous_second(self):\n",
    "        self.__second -= 1\n",
    "        if self.__second == -1:\n",
    "            self.__second = 59\n",
    "            self.__minute -= 1\n",
    "            if self.__minute == -1:\n",
    "                self.__minute = 59\n",
    "                self.__hour -= 1\n",
    "                if self.__hour == -1:\n",
    "                    self.__hour = 23\n",
    "\n",
    "\n",
    "timer = Timer(23, 59, 59)\n",
    "print(timer)\n",
    "\n",
    "timer.next_second()\n",
    "print(timer)\n",
    "\n",
    "timer.previous_second()\n",
    "print(timer)"
   ],
   "metadata": {
    "cell_id": "18563999ceee496795dbf22d5580f558",
    "source_hash": "f0c26499",
    "execution_start": 1685005140927,
    "execution_millis": 4,
    "deepnote_to_be_reexecuted": false,
    "deepnote_cell_type": "code"
   },
   "outputs": [
    {
     "name": "stdout",
     "text": "23:59:59\n00:00:00\n23:59:59\n",
     "output_type": "stream"
    }
   ],
   "execution_count": 2
  },
  {
   "cell_type": "markdown",
   "source": [
    "### Завдання 2\n",
    "\n",
    "Ваше завдання – реалізувати клас під назвою `Weeker`. Так, Ваші очі не обманюють Вас -- ця назва походить від того факту, що об'єкти цього класу можуть зберігати та керувати днями тижня.\n"
   ],
   "metadata": {
    "cell_id": "7981828a3d714ec58058ac9e6554beb0",
    "deepnote_cell_type": "markdown"
   }
  },
  {
   "cell_type": "code",
   "source": [
    "class WeekDayError(Exception):\n",
    "    pass\n",
    "\n",
    "\n",
    "class Weeker:\n",
    "    def __init__(self, day):\n",
    "        days_of_week = ['Mon', 'Tue', 'Wed', 'Thu', 'Fri', 'Sat', 'Sun']\n",
    "        if day not in days_of_week:\n",
    "            raise WeekDayError(\"Invalid day of the week\")\n",
    "        self.day = day\n",
    "\n",
    "    def __str__(self):\n",
    "        return self.day\n",
    "\n",
    "    def add_days(self, n):\n",
    "        days_of_week = ['Mon', 'Tue', 'Wed', 'Thu', 'Fri', 'Sat', 'Sun']\n",
    "        current_index = days_of_week.index(self.day)\n",
    "        new_index = (current_index + n) % 7\n",
    "        self.day = days_of_week[new_index]\n",
    "\n",
    "    def subtract_days(self, n):\n",
    "        self.add_days(-n)\n",
    "\n",
    "\n",
    "try:\n",
    "    day1 = Weeker('Mon')\n",
    "    print(day1)\n",
    "    day1.add_days(3)\n",
    "    print(day1)\n",
    "    day1.subtract_days(2)\n",
    "    print(day1)\n",
    "\n",
    "    day2 = Weeker('Sat')\n",
    "    print(day2)\n",
    "    day2.add_days(1)\n",
    "    print(day2)\n",
    "    day2.add_days(7)\n",
    "    print(day2)\n",
    "\n",
    "    day3 = Weeker('Invalid')\n",
    "    print(\"This line should not be printed\")\n",
    "except WeekDayError:\n",
    "    print(\"Sorry, I can't serve your request.\")"
   ],
   "metadata": {
    "cell_id": "4c56c8bcfe224359996f32f16af98ac2",
    "source_hash": "2186fe5",
    "execution_start": 1685005214029,
    "execution_millis": 2,
    "deepnote_to_be_reexecuted": false,
    "deepnote_cell_type": "code"
   },
   "outputs": [
    {
     "name": "stdout",
     "text": "Mon\nThu\nTue\nSat\nSun\nSun\nSorry, I can't serve your request.\n",
     "output_type": "stream"
    }
   ],
   "execution_count": 3
  },
  {
   "cell_type": "markdown",
   "source": [
    "### Завдання 3\n",
    "\n",
    "Завдання досить просте, якщо Ви скористаєтеся функцією з ім'ям `hypot()` (доступна в модулі `math`), яка вважає довжину гіпотенузи прямокутного трикутника"
   ],
   "metadata": {
    "cell_id": "3649d1bf24f5433ba4828c14cddbf6cc",
    "deepnote_cell_type": "markdown"
   }
  },
  {
   "cell_type": "code",
   "source": [
    "from math import hypot\n",
    "\n",
    "\n",
    "class Point:\n",
    "    def __init__(self, x=0, y=0):\n",
    "        self.__x = x\n",
    "        self.__y = y\n",
    "\n",
    "    def getx(self):\n",
    "        return self.__x\n",
    "\n",
    "    def gety(self):\n",
    "        return self.__y\n",
    "\n",
    "    def distance_from_xy(self, x, y):\n",
    "        return hypot(self.__x - x, self.__y - y)\n",
    "\n",
    "    def distance_from_point(self, point):\n",
    "        return self.distance_from_xy(point.getx(), point.gety())\n",
    "\n",
    "\n",
    "point1 = Point(1, 1)\n",
    "point2 = Point(2, 2)\n",
    "\n",
    "distance1 = point1.distance_from_point(Point(0, 0))\n",
    "print(distance1)\n",
    "\n",
    "distance2 = point2.distance_from_point(point1)\n",
    "print(distance2)"
   ],
   "metadata": {
    "cell_id": "5f75d1e288fc486792e09752250103b1",
    "source_hash": "8fa6c0fc",
    "execution_start": 1685005331077,
    "execution_millis": 2,
    "deepnote_to_be_reexecuted": false,
    "deepnote_cell_type": "code"
   },
   "outputs": [
    {
     "name": "stdout",
     "text": "1.4142135623730951\n1.4142135623730951\n",
     "output_type": "stream"
    }
   ],
   "execution_count": 4
  },
  {
   "cell_type": "markdown",
   "source": [
    "### Завдання 4"
   ],
   "metadata": {
    "cell_id": "7fbc5dbd6c7349a9802b83e772664b74",
    "deepnote_cell_type": "markdown"
   }
  },
  {
   "cell_type": "markdown",
   "source": [
    "Тепер ми збираємося вбудувати клас `Point` (див. попереднє завдання) в інший клас. Крім того, ми збираємося помістити три точки в один клас, що дозволить нам визначити трикутник."
   ],
   "metadata": {
    "cell_id": "4bfca009327d490ca9f019d4eefd9e2d",
    "deepnote_cell_type": "markdown"
   }
  },
  {
   "cell_type": "code",
   "source": [
    "import math\n",
    "\n",
    "\n",
    "class Point:\n",
    "    def __init__(self, x, y):\n",
    "        self.x = x\n",
    "        self.y = y\n",
    "\n",
    "\n",
    "class Triangle:\n",
    "    def __init__(self, point1, point2, point3):\n",
    "        self.points = [point1, point2, point3]\n",
    "\n",
    "    def perimeter(self):\n",
    "        side1 = self.distance(self.points[0], self.points[1])\n",
    "        side2 = self.distance(self.points[1], self.points[2])\n",
    "        side3 = self.distance(self.points[2], self.points[0])\n",
    "        return side1 + side2 + side3\n",
    "\n",
    "    def distance(self, point1, point2):\n",
    "        return math.sqrt((point2.x - point1.x) ** 2 + (point2.y - point1.y) ** 2)\n",
    "\n",
    "\n",
    "# Створення об'єктів точок\n",
    "point1 = Point(1, 0)\n",
    "point2 = Point(1, 1)\n",
    "point3 = Point(2, 0)\n",
    "\n",
    "# Створення об'єкта трикутника\n",
    "triangle = Triangle(point1, point2, point3)\n",
    "\n",
    "# Обчислення периметру трикутника\n",
    "perimeter = triangle.perimeter()\n",
    "\n",
    "print(\"Периметр трикутника:\", \"{:.15f}\".format(perimeter))"
   ],
   "metadata": {
    "cell_id": "95e921471f164a4f9f3acdaaf4ba8032",
    "source_hash": "546b5c88",
    "execution_start": 1685005424769,
    "execution_millis": 2,
    "deepnote_to_be_reexecuted": false,
    "deepnote_cell_type": "code"
   },
   "outputs": [
    {
     "name": "stdout",
     "text": "Периметр трикутника: 3.414213562373095\n",
     "output_type": "stream"
    }
   ],
   "execution_count": 5
  },
  {
   "cell_type": "markdown",
   "source": [
    "### Відповіді на контрольні запитання\n",
    "\n",
    "<h5>Припустимо, що наступний фрагмент коду успішно виконано: Який очікуваний вивід наступного фрагмента коду?\n",
    "print(rocky)\n",
    "print(luna)</h5>\n",
    "<li>Відповідь(Collie says: Woof! Don't run away, Little Lamb!\n",
    "Dobermann says: Woof! Stay where you are, Mister Intruder!)</li>\n",
    "<h5>Припустимо, що наступний фрагмент коду успішно виконано: Який очікуваний вивід наступного фрагмента коду Який очікуваний вивід наступного фрагмента коду?\n",
    "print(issubclass(SheepDog, Dog), issubclass(SheepDog, GuardDog))\n",
    "print(isinstance(rocky, GuardDog), isinstance(luna, GuardDog)).</h5>\n",
    "<li> Відповідь: True False\n",
    "False True </li>\n",
    "   "
   ],
   "metadata": {
    "cell_id": "2abe7bdabfb14efd95704184c2aa79d9",
    "deepnote_cell_type": "markdown"
   }
  },
  {
   "cell_type": "markdown",
   "source": [
    "<a style='text-decoration:none;line-height:16px;display:flex;color:#5B5B62;padding:10px;justify-content:end;' href='https://deepnote.com?utm_source=created-in-deepnote-cell&projectId=89ddd344-1ef7-423f-a0be-94096fc2d85a' target=\"_blank\">\n",
    "<img alt='Created in deepnote.com' style='display:inline;max-height:16px;margin:0px;margin-right:7.5px;' src='data:image/svg+xml;base64,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' > </img>\n",
    "Created in <span style='font-weight:600;margin-left:4px;'>Deepnote</span></a>"
   ],
   "metadata": {
    "created_in_deepnote_cell": true,
    "deepnote_cell_type": "markdown"
   }
  }
 ],
 "nbformat": 4,
 "nbformat_minor": 0,
 "metadata": {
  "deepnote": {},
  "kernelspec": {
   "name": "python3",
   "language": "python",
   "display_name": "Python 3 (ipykernel)"
  },
  "language_info": {
   "name": "python",
   "version": "3.11.3",
   "mimetype": "text/x-python",
   "file_extension": ".py",
   "pygments_lexer": "ipython3",
   "codemirror_mode": {
    "name": "ipython",
    "version": 3
   },
   "nbconvert_exporter": "python"
  },
  "deepnote_notebook_id": "7d4df2947c00454ba73216a597ccd502",
  "deepnote_execution_queue": []
 }
}
