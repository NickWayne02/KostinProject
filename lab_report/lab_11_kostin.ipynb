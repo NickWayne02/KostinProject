{
 "cells": [
  {
   "cell_type": "markdown",
   "source": [
    "#### 16.05.23, &copy; [Evhenii Kostin](https://www.linkedin.com/in/%D0%B5%D0%B2%D0%B3%D0%B5%D0%BD%D0%B8%D0%B9-%D0%BA%D0%BE%D1%81%D1%82%D0%B8%D0%BD-8287b0264/), 2023"
   ],
   "metadata": {
    "cell_id": "dc7e83e2b8474a798dcdd6165052fdd3",
    "deepnote_cell_type": "markdown"
   }
  },
  {
   "cell_type": "markdown",
   "source": [
    "# Лабораторна робота №11. Об'єктно-орієнтоване програмування. Частина І"
   ],
   "metadata": {
    "cell_id": "eeae6e7518e241cbba4c1d65be79841b",
    "deepnote_cell_type": "markdown"
   }
  },
  {
   "cell_type": "markdown",
   "source": [
    "__Мета:__ _навчитися обробляти рядки за допомогою спеціальних функцій і методів._"
   ],
   "metadata": {
    "cell_id": "7def3b513c604652809e32d4e086d4ce",
    "deepnote_cell_type": "markdown"
   }
  },
  {
   "cell_type": "markdown",
   "source": [
    "### Завдання 1\n",
    "\n",
    "Ваше завдання -- розширити поведінку класу `Stack` таким чином, щоб клас міг підраховувати всі елементи,\n",
    "що додаються і видаляються (ми припускаємо, що підрахунку видалень достатньо). Використовуйте клас `Stack`, який надано нижче."
   ],
   "metadata": {
    "cell_id": "cbc2525275624b4ebf7685e8a3d1c906",
    "deepnote_cell_type": "markdown"
   }
  },
  {
   "cell_type": "code",
   "source": [
    "class Stack:\n",
    "    def __init__(self):\n",
    "        self._stack = []\n",
    "        self._counter = 0\n",
    "\n",
    "    def push(self, item):\n",
    "        self._stack.append(item)\n",
    "        self._counter += 1\n",
    "\n",
    "    def pop(self):\n",
    "        if self.is_empty():\n",
    "            return None\n",
    "        self._counter -= 1\n",
    "        return self._stack.pop()\n",
    "\n",
    "    def is_empty(self):\n",
    "        return len(self._stack) == 0\n",
    "\n",
    "    def get_counter(self):\n",
    "        return self._counter"
   ],
   "metadata": {
    "cell_id": "e9becd960626413eaec8a1ca2b86a681",
    "source_hash": "8b2f3108",
    "execution_start": 1685004654834,
    "execution_millis": 3,
    "deepnote_to_be_reexecuted": false,
    "deepnote_cell_type": "code"
   },
   "outputs": [],
   "execution_count": 1
  },
  {
   "cell_type": "markdown",
   "source": [
    "### Завдання 2\n",
    "\n",
    "Ваше завдання -– реалізувати клас `Queue` з двома основними операціями:\n",
    "\n",
    "* `put(element)`, яка поміщає елемент на кінець черги;\n",
    "* `get()`, яка бере елемент із початку черги і повертає його як результат (черга не може бути порожньою для успішного виконання)."
   ],
   "metadata": {
    "cell_id": "d43b540c6e65477aa1324ba08def5d05",
    "deepnote_cell_type": "markdown"
   }
  },
  {
   "cell_type": "code",
   "source": [
    "class QueueError(Exception):\n",
    "    pass\n",
    "\n",
    "class Queue:\n",
    "    def __init__(self):\n",
    "        self._queue = []\n",
    "\n",
    "    def put(self, element):\n",
    "        self._queue.insert(0, element)\n",
    "\n",
    "    def get(self):\n",
    "        if self.is_empty():\n",
    "            raise QueueError(\"Queue is empty\")\n",
    "        return self._queue.pop()\n",
    "\n",
    "    def is_empty(self):\n",
    "        return len(self._queue) == 0\n",
    "#==================================================#\n",
    "#Можна протестувати наступним кодом:\n",
    "queue = Queue()\n",
    "queue.put(1)\n",
    "queue.put(\"dog\")\n",
    "print(queue.get())  # Виведе: 1\n",
    "print(queue.get())  # Виведе: dog\n",
    "print(queue.is_empty())  # Виведе: True\n",
    "\n",
    "try:\n",
    "    queue.get()\n",
    "except QueueError as error:\n",
    "    print(\"Queue error\")  # Виведе: Queue error"
   ],
   "metadata": {
    "cell_id": "387d5246bd924fc294558e2139177482",
    "source_hash": "bf2fe9ff",
    "execution_start": 1685004742434,
    "execution_millis": 2,
    "deepnote_to_be_reexecuted": false,
    "deepnote_cell_type": "code"
   },
   "outputs": [
    {
     "name": "stdout",
     "text": "1\ndog\nTrue\nQueue error\n",
     "output_type": "stream"
    }
   ],
   "execution_count": 2
  },
  {
   "cell_type": "markdown",
   "source": [
    "### Завдання 3"
   ],
   "metadata": {
    "cell_id": "c737a45296ff4c5ba9bc3047f96d2771",
    "deepnote_cell_type": "markdown"
   }
  },
  {
   "cell_type": "markdown",
   "source": [
    "Ваше завдання –- трохи розширити можливості класу `Queue` (див. попередній приклад). Нам потрібен метод без параметрів, який повертає `True`, якщо черга порожня, і `False` інакше."
   ],
   "metadata": {
    "cell_id": "93e77be3ec0b4b35b24d3159221eecc5",
    "deepnote_cell_type": "markdown"
   }
  },
  {
   "cell_type": "code",
   "source": [
    "class QueueError(Exception):\n",
    "    pass\n",
    "\n",
    "\n",
    "class Queue:\n",
    "    def __init__(self):\n",
    "        self._queue = []\n",
    "\n",
    "    def put(self, element):\n",
    "        self._queue.insert(0, element)\n",
    "\n",
    "    def get(self):\n",
    "        if self.isempty():\n",
    "            raise QueueError(\"Queue is empty\")\n",
    "        return self._queue.pop()\n",
    "\n",
    "    def isempty(self):\n",
    "        return len(self._queue) == 0\n",
    "\n",
    "\n",
    "class SuperQueue(Queue):\n",
    "    def isempty(self):\n",
    "        return len(self._queue) == 0\n",
    "\n",
    "\n",
    "que = SuperQueue()\n",
    "que.put(1)\n",
    "que.put(\"dog\")\n",
    "que.put(False)\n",
    "for i in range(4):\n",
    "    if not que.isempty():\n",
    "        print(que.get())\n",
    "    else:\n",
    "        print(\"Queue empty\")"
   ],
   "metadata": {
    "cell_id": "0ed2d76fd4c841218d574a98667ce7d2",
    "source_hash": "ddd5c410",
    "execution_start": 1685004808126,
    "execution_millis": 3,
    "deepnote_to_be_reexecuted": false,
    "deepnote_cell_type": "code"
   },
   "outputs": [
    {
     "name": "stdout",
     "text": "1\ndog\nFalse\nQueue empty\n",
     "output_type": "stream"
    }
   ],
   "execution_count": 3
  },
  {
   "cell_type": "markdown",
   "source": [
    "## Відповіді на контрольні запитання\n",
    "\n",
    "<h5>У наступному оголошенні чогось не вистачає – чого?</h5>\n",
    "<li>Відповідь(У оголошенні класу Snakes відсутній аргумент self у методі __init__\".)</li>\n",
    "<h5>Припускаючи, що існує клас з ім’ям Snake, напишіть перший рядок оголошення класу Python, вказавши, що новий клас насправді є підкласом Snake.</h5>\n",
    "<li> Відповідь\n",
    "    (class NewSnake(Snake):\n",
    "    pass) </li>\n",
    "\n",
    "<h5>Змініть код, щоб гарантувати, що властивість venomous є приватною.</h5>\n",
    "<li>  Відповідь(class Snakes:\n",
    "    def __init__(self):\n",
    "        self._venomous = True\n",
    "    (Щоб забезпечити, що властивість venomous буде приватною, ми можемо змінити її ім'я на _venomous)\n",
    "</li>"
   ],
   "metadata": {
    "cell_id": "b28edf89cc2f4bf39ddb5ef8ea8da521",
    "deepnote_cell_type": "markdown"
   }
  },
  {
   "cell_type": "markdown",
   "source": [
    "<a style='text-decoration:none;line-height:16px;display:flex;color:#5B5B62;padding:10px;justify-content:end;' href='https://deepnote.com?utm_source=created-in-deepnote-cell&projectId=89ddd344-1ef7-423f-a0be-94096fc2d85a' target=\"_blank\">\n",
    "<img alt='Created in deepnote.com' style='display:inline;max-height:16px;margin:0px;margin-right:7.5px;' src='data:image/svg+xml;base64,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' > </img>\n",
    "Created in <span style='font-weight:600;margin-left:4px;'>Deepnote</span></a>"
   ],
   "metadata": {
    "created_in_deepnote_cell": true,
    "deepnote_cell_type": "markdown"
   }
  }
 ],
 "nbformat": 4,
 "nbformat_minor": 0,
 "metadata": {
  "deepnote": {},
  "kernelspec": {
   "name": "python3",
   "language": "python",
   "display_name": "Python 3 (ipykernel)"
  },
  "language_info": {
   "name": "python",
   "version": "3.11.3",
   "mimetype": "text/x-python",
   "file_extension": ".py",
   "pygments_lexer": "ipython3",
   "codemirror_mode": {
    "name": "ipython",
    "version": 3
   },
   "nbconvert_exporter": "python"
  },
  "deepnote_notebook_id": "336585565f93449fb4aa11f1bad31914",
  "deepnote_execution_queue": []
 }
}
