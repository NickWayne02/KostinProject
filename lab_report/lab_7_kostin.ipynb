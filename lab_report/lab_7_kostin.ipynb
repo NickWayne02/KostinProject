{
 "cells": [
  {
   "cell_type": "markdown",
   "source": [
    "#### 16.05.23, &copy; [Evhenii Kostin](https://www.linkedin.com/in/%D0%B5%D0%B2%D0%B3%D0%B5%D0%BD%D0%B8%D0%B9-%D0%BA%D0%BE%D1%81%D1%82%D0%B8%D0%BD-8287b0264/), 2023"
   ],
   "metadata": {
    "cell_id": "36cdcfba2ea7494faae47c177df11794",
    "deepnote_cell_type": "markdown"
   }
  },
  {
   "cell_type": "markdown",
   "source": [
    "# Лабораторна робота №7. Словники, кортежі. Обробка винятків (empty)"
   ],
   "metadata": {
    "cell_id": "c5605500f1c0472f98784dce4be5e0ba",
    "deepnote_cell_type": "markdown"
   }
  },
  {
   "cell_type": "markdown",
   "source": [
    "__Мета:__ _навчитися працювати зі структурами даних Кортеж та Словник. Навчитись обробляти основні типи винятків_"
   ],
   "metadata": {
    "cell_id": "c1881301f50447ccb06cc20a9d290191",
    "deepnote_cell_type": "markdown"
   }
  },
  {
   "cell_type": "markdown",
   "source": [
    "### Завдання 1"
   ],
   "metadata": {
    "cell_id": "5e4efd5965884094bf3b5b75dd312ed6",
    "deepnote_cell_type": "markdown"
   }
  },
  {
   "cell_type": "code",
   "source": [
    "numbers = (1, 3, 5, 7, 9, 11, 13, 15) # кортеж з числами\n",
    "\n",
    "n = int(input(\"Введіть число n: \")) # користувач вводить число n\n",
    "\n",
    "result = [num for num in numbers if num < n] # генератор списків, щоб створити новий список result, який містить всі числа з кортежу, які менші за n\n",
    "\n",
    "print(\"Числа, які менші за\", n, \":\", result) # виводимо на екран всі числа, які менші за n"
   ],
   "metadata": {
    "cell_id": "008bca691bbb4466855912d056813edb",
    "source_hash": "a5064558",
    "execution_start": 1685001605676,
    "execution_millis": 3288,
    "deepnote_to_be_reexecuted": false,
    "deepnote_cell_type": "code"
   },
   "outputs": [
    {
     "name": "stdout",
     "text": "Числа, які менші за 5 : [1, 3]\n",
     "output_type": "stream"
    }
   ],
   "execution_count": 4
  },
  {
   "cell_type": "markdown",
   "source": [
    "### Завдання 2"
   ],
   "metadata": {
    "cell_id": "b46483ff8f7a425e82113f8b60d20b16",
    "deepnote_cell_type": "markdown"
   }
  },
  {
   "cell_type": "code",
   "source": [
    "# Створюємо кортеж з трьох рядків\n",
    "my_tuple = ('melon', 'pineapple', 'orange')\n",
    "\n",
    "# З'єднуємо рядки з комою як роздільником за допомогою методу join()\n",
    "result = ','.join(my_tuple)\n",
    "\n",
    "# Виводимо результат на екран\n",
    "print(result)"
   ],
   "metadata": {
    "cell_id": "2075823c03ed4eae87b1adc6b7fe00b2",
    "source_hash": "558b0cc",
    "execution_start": 1685001639375,
    "execution_millis": 4,
    "deepnote_to_be_reexecuted": false,
    "deepnote_cell_type": "code"
   },
   "outputs": [
    {
     "name": "stdout",
     "text": "melon,pineapple,orange\n",
     "output_type": "stream"
    }
   ],
   "execution_count": 5
  },
  {
   "cell_type": "markdown",
   "source": [
    "### Завдання 3 "
   ],
   "metadata": {
    "cell_id": "2f0902b8989e400d8a3c58fe46c57e1b",
    "deepnote_cell_type": "markdown"
   }
  },
  {
   "cell_type": "code",
   "source": [
    "# Створюємо словник з інформацією про книги\n",
    "books = {\n",
    "    '1984': ('Джордж Орвелл', 1949, 328),\n",
    "    'Лицар свободи': ('Джохар Дудаєв', 2020, 220),\n",
    "    'Полум`яний бог': ('Ребекка Куанг', 2023, 584),\n",
    "    'Код да Вінчі': ('Ден Браун', 2017, 592),\n",
    "    'Старий і море': ('Ернест Хемінгуей', 1974, 571),\n",
    "}\n",
    "\n",
    "# Запитуємо в користувача назву книги\n",
    "book_name = input('Введіть назву книги: ')\n",
    "\n",
    "# Виводимо інформацію про книгу, якщо така є в словнику\n",
    "if book_name in books:\n",
    "    book_info = books[book_name]\n",
    "    print(f'Автор: {book_info[0]}')\n",
    "    print(f'Рік видання: {book_info[1]}')\n",
    "    print(f'Кількість сторінок: {book_info[2]}')\n",
    "else:\n",
    "    print('Книга не знайдена в бібліотеці')"
   ],
   "metadata": {
    "cell_id": "9601979c3fad405b91cc854f4efc5ecb",
    "source_hash": "286d334f",
    "execution_start": 1685001677096,
    "execution_millis": 5418,
    "deepnote_to_be_reexecuted": false,
    "deepnote_cell_type": "code"
   },
   "outputs": [
    {
     "name": "stdout",
     "text": "Автор: Джордж Орвелл\nРік видання: 1949\nКількість сторінок: 328\n",
     "output_type": "stream"
    }
   ],
   "execution_count": 6
  },
  {
   "cell_type": "markdown",
   "source": [
    "### Завдання 4"
   ],
   "metadata": {
    "cell_id": "a38b1469db4f41719f1496b051995e54",
    "deepnote_cell_type": "markdown"
   }
  },
  {
   "cell_type": "code",
   "source": [
    "students = {\n",
    "    \"Стефанчук\": (15, \"Чоловік\", \"Право\"),\n",
    "    \"Максимова\": (21, \"Жінка\", \"Геологія\"),\n",
    "    \"Антипов\": (17, \"Чоловік\", \"Механіка\"),\n",
    "    \"Кіщук\": (19, \"Жінка\", \"Програмування\")\n",
    "}\n",
    "\n",
    "name = input(\"Введіть прізвище студента: \")\n",
    "\n",
    "if name in students:\n",
    "    age, gender, major = students[name]\n",
    "    print(f\"Студент: {name}\")\n",
    "    print(f\"Вік: {age}\")\n",
    "    print(f\"Стать: {gender}\")\n",
    "    print(f\"Факультет: {major}\")\n",
    "else:\n",
    "    print(\"Такого студента не знайдено.\")"
   ],
   "metadata": {
    "cell_id": "347ef0f57e544113a04ae30f517ade7f",
    "source_hash": "94f6652e",
    "execution_start": 1685001720657,
    "execution_millis": 8751,
    "deepnote_to_be_reexecuted": false,
    "deepnote_cell_type": "code"
   },
   "outputs": [
    {
     "name": "stdout",
     "text": "Студент: Кіщук\nВік: 19\nСтать: Жінка\nФакультет: Програмування\n",
     "output_type": "stream"
    }
   ],
   "execution_count": 7
  },
  {
   "cell_type": "markdown",
   "source": [
    "### Завдання 5"
   ],
   "metadata": {
    "cell_id": "8f584fd8b67a461ebfa50ddb451e84b1",
    "deepnote_cell_type": "markdown"
   }
  },
  {
   "cell_type": "code",
   "source": [
    "contacts = {\n",
    "    'Dante Angelo': ['432896', '731946'],\n",
    "    'Edward Kenway': ['167942', '287349', '719420'],\n",
    "    'Hosea Matthews': ['831675']\n",
    "}\n",
    "\n",
    "\n",
    "def add_phone_number(contact_name, phone_number):\n",
    "    if contact_name in contacts:\n",
    "        contacts[contact_name].append(phone_number)\n",
    "    else:\n",
    "        contacts[contact_name] = [phone_number]\n",
    "\n",
    "\n",
    "# Додавання нового номеру телефону до контакту\n",
    "add_phone_number('Jacob Frye', '428562')\n",
    "\n",
    "# Виведення списку номерів телефонів для всіх контактів\n",
    "for contact, phone_numbers in contacts.items():\n",
    "    print(contact + ': ' + ', '.join(phone_numbers))"
   ],
   "metadata": {
    "cell_id": "d89ccf0fa131423b99b6ec6919cda43a",
    "source_hash": "56d0a1c9",
    "execution_start": 1685001759778,
    "execution_millis": 7,
    "deepnote_to_be_reexecuted": false,
    "deepnote_cell_type": "code"
   },
   "outputs": [
    {
     "name": "stdout",
     "text": "Dante Angelo: 432896, 731946\nEdward Kenway: 167942, 287349, 719420\nHosea Matthews: 831675\nJacob Frye: 428562\n",
     "output_type": "stream"
    }
   ],
   "execution_count": 8
  },
  {
   "cell_type": "markdown",
   "source": [
    "### ВІдповіді на контрольні запитання\n",
    "\n",
    "<ol>\n",
    "    <li> (2, 3)</li>\n",
    "    <li>  4</li>\n",
    "    <li>  Error</li>\n",
    "    <li>  {'a': 1, 'b': 2, 'c': 3, 'd': 4}</li>\n",
    "</ol>"
   ],
   "metadata": {
    "cell_id": "ae6b44ea1bfb4e6493e42281af309519",
    "deepnote_cell_type": "markdown"
   }
  },
  {
   "cell_type": "markdown",
   "source": [
    "<a style='text-decoration:none;line-height:16px;display:flex;color:#5B5B62;padding:10px;justify-content:end;' href='https://deepnote.com?utm_source=created-in-deepnote-cell&projectId=89ddd344-1ef7-423f-a0be-94096fc2d85a' target=\"_blank\">\n",
    "<img alt='Created in deepnote.com' style='display:inline;max-height:16px;margin:0px;margin-right:7.5px;' src='data:image/svg+xml;base64,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' > </img>\n",
    "Created in <span style='font-weight:600;margin-left:4px;'>Deepnote</span></a>"
   ],
   "metadata": {
    "created_in_deepnote_cell": true,
    "deepnote_cell_type": "markdown"
   }
  }
 ],
 "nbformat": 4,
 "nbformat_minor": 0,
 "metadata": {
  "deepnote": {},
  "kernelspec": {
   "name": "python3",
   "language": "python",
   "display_name": "Python 3 (ipykernel)"
  },
  "language_info": {
   "name": "python",
   "version": "3.10.10",
   "mimetype": "text/x-python",
   "file_extension": ".py",
   "pygments_lexer": "ipython3",
   "codemirror_mode": {
    "name": "ipython",
    "version": 3
   },
   "nbconvert_exporter": "python"
  },
  "deepnote_notebook_id": "6ba486552e99411481b3c0ff38125b6f",
  "deepnote_execution_queue": []
 }
}
