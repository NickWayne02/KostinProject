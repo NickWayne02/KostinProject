{
 "cells": [
  {
   "cell_type": "markdown",
   "source": [
    "#### 16.05.23, &copy; [Evhenii Kostin](https://www.linkedin.com/in/%D0%B5%D0%B2%D0%B3%D0%B5%D0%BD%D0%B8%D0%B9-%D0%BA%D0%BE%D1%81%D1%82%D0%B8%D0%BD-8287b0264/), 2023"
   ],
   "metadata": {
    "cell_id": "8a82259768e1479d88b5201a74702c23",
    "deepnote_cell_type": "markdown"
   }
  },
  {
   "cell_type": "markdown",
   "source": [
    "# Лабораторна робота №9. Рядки. Методи рядків і списків. Частина І"
   ],
   "metadata": {
    "cell_id": "01bc113f93e94ed7a79d83d74dd7ce29",
    "deepnote_cell_type": "markdown"
   }
  },
  {
   "cell_type": "markdown",
   "source": [
    "__Мета:__ _навчитися обробляти рядки за допомогою спеціальних функцій і методів._"
   ],
   "metadata": {
    "cell_id": "5b7895e060e14f898cd19573c5151262",
    "deepnote_cell_type": "markdown"
   }
  },
  {
   "cell_type": "markdown",
   "source": [
    "### Завдання 1\n",
    "\n",
    "Написати власну функцію, яка працює практично так само, як оригінальний метод `split()`:\n"
   ],
   "metadata": {
    "cell_id": "855397a4179b4bc89ce12ed048415383",
    "deepnote_cell_type": "markdown"
   }
  },
  {
   "cell_type": "code",
   "source": [
    "def mysplits(string):\n",
    "    if not string.strip():\n",
    "        return []\n",
    "\n",
    "    words = string.split()\n",
    "    return words\n",
    "\n",
    "\n",
    "sentence1 = \"To be or not to be, that is the question\"\n",
    "result1 = mysplits(sentence1)\n",
    "print(result1)\n",
    "\n",
    "sentence2 = \"To be or not to be,that is the question\"\n",
    "result2 = mysplits(sentence2)\n",
    "print(result2)\n",
    "\n",
    "sentence3 = \"\"\n",
    "result3 = mysplits(sentence3)\n",
    "print(result3)\n",
    "\n",
    "sentence4 = \"abc\"\n",
    "result4 = mysplits(sentence4)\n",
    "print(result4)\n",
    "\n",
    "sentence5 = \"   \"\n",
    "result5 = mysplits(sentence5)\n",
    "print(result5)"
   ],
   "metadata": {
    "cell_id": "c143ec864db544c4b32a8bd17cfc9363",
    "source_hash": "162b91f7",
    "execution_start": 1685002005369,
    "execution_millis": 2,
    "deepnote_to_be_reexecuted": false,
    "deepnote_cell_type": "code"
   },
   "outputs": [
    {
     "name": "stdout",
     "text": "['To', 'be', 'or', 'not', 'to', 'be,', 'that', 'is', 'the', 'question']\n['To', 'be', 'or', 'not', 'to', 'be,that', 'is', 'the', 'question']\n[]\n['abc']\n[]\n",
     "output_type": "stream"
    }
   ],
   "execution_count": 1
  },
  {
   "cell_type": "markdown",
   "source": [
    "### Завдання 2\n",
    "Написати програму, яка здатна імітувати роботу пристрою з семисегментним дисплеєм, хоча краще все ж таки використовувати окремі світлодіоди замість сегментів.\n"
   ],
   "metadata": {
    "cell_id": "8fa0c7f4b2fe46f8bfdfeee18480db5e",
    "deepnote_cell_type": "markdown"
   }
  },
  {
   "cell_type": "code",
   "source": [
    "number_dict = {'1': ('  #', '  #', '  #', '  #', '  #'),\n",
    "               '2': ('###', '  #', '###', '#  ', '###'),\n",
    "               '3': ('###', '  #', '###', '  #', '###'),\n",
    "               '4': ('# #', '# #', '###', '  #', '  #'),\n",
    "               '5': ('###', '#  ', '###', '  #', '###'),\n",
    "               '6': ('###', '#  ', '###', '# #', '###'),\n",
    "               '7': ('###', '  #', '  #', '  #', '  #'),\n",
    "               '8': ('###', '# #', '###', '# #', '###'),\n",
    "               '9': ('###', '# #', '###', '  #', '###'),\n",
    "               '0': ('###', '# #', '# #', '# #', '###')}\n",
    "\n",
    "\n",
    "def display_number(num):\n",
    "    if num < 0:\n",
    "        print(\"Число має бути невід'ємним.\")\n",
    "        return\n",
    "\n",
    "    num_str = str(num)\n",
    "\n",
    "    for level in range(5):\n",
    "        for digit in num_str:\n",
    "            if digit in number_dict:\n",
    "                segments = number_dict[digit]\n",
    "                print(segments[level], end=' ')\n",
    "        print()\n",
    "\n",
    "\n",
    "number_input = input('Введіть ціле число: ')\n",
    "try:\n",
    "    number = int(number_input)\n",
    "    display_number(number)\n",
    "except ValueError:\n",
    "    print(\"Некоректне введення. Введіть ціле число.\")"
   ],
   "metadata": {
    "cell_id": "a7ffbaae3d424e80a8a74c4b206984cb",
    "source_hash": "c4a1dd7a",
    "execution_start": 1685002950497,
    "execution_millis": 5420,
    "deepnote_to_be_reexecuted": false,
    "deepnote_cell_type": "code"
   },
   "outputs": [
    {
     "name": "stdout",
     "text": "  # ### ### # # ### \n  #   #   # # # #   \n  # ### ### ### ### \n  # #     #   #   # \n  # ### ###   # ### \n",
     "output_type": "stream"
    }
   ],
   "execution_count": 2
  },
  {
   "cell_type": "markdown",
   "source": [
    "### Завдання 3\n",
    "Написати __програму для шифрування повідомлення__:"
   ],
   "metadata": {
    "cell_id": "dfc79ce1307e4598a89d680e179fcc7f",
    "deepnote_cell_type": "markdown"
   }
  },
  {
   "cell_type": "code",
   "source": [
    "def caesar_cipher(text, shift):\n",
    "    result = \"\"\n",
    "    for char in text:\n",
    "        if char.isalpha():\n",
    "            if char.isupper():\n",
    "                base = ord('A')\n",
    "            else:\n",
    "                base = ord('a')\n",
    "\n",
    "            encoded = (ord(char) - base + shift) % 26 + base\n",
    "            encoded_char = chr(encoded)\n",
    "            result += encoded_char\n",
    "        else:\n",
    "            result += char\n",
    "\n",
    "    return result\n",
    "\n",
    "\n",
    "text = input(\"Введіть рядок, який треба зашифрувати: \")\n",
    "shift = None\n",
    "\n",
    "while True:\n",
    "    shift_input = input(\"Введіть значення зсуву (ціле число з діапазону 1-25): \")\n",
    "    try:\n",
    "        shift = int(shift_input)\n",
    "        if 1 <= shift <= 25:\n",
    "            break\n",
    "        else:\n",
    "            print(\"Значення зсуву повинно бути в діапазоні 1-25.\")\n",
    "    except ValueError:\n",
    "        print(\"Некоректне введення. Введіть ціле число.\")\n",
    "\n",
    "if shift is not None:\n",
    "    encrypted_text = caesar_cipher(text, shift)\n",
    "    print(\"Закодований текст:\", encrypted_text)"
   ],
   "metadata": {
    "cell_id": "7a8c67aa06a5429981b437228070f2da",
    "source_hash": "264a4ad",
    "execution_start": 1685003076045,
    "execution_millis": 111296,
    "deepnote_to_be_reexecuted": false,
    "deepnote_cell_type": "code"
   },
   "outputs": [
    {
     "name": "stdout",
     "text": "Закодований текст: Ifmmp\n",
     "output_type": "stream"
    }
   ],
   "execution_count": 3
  },
  {
   "cell_type": "markdown",
   "source": [
    "### Відповіді на контрольні запитання\n",
    "\n",
    "<ol>\n",
    "    <li>Який із наступних рядків описує справжню умову?</li>\n",
    "    Відповідь(3)\n",
    "    \n",
    "   <li>Який очікуваний результат наступного коду?</li>\n",
    "    Відповідь(Цей код розділить рядок s1 на окремі слова, за допомогою методу split(), і збереже ці слова у списку s2. Потім, за допомогою функції sorted(), список s2 буде відсортовано у лексикографічному порядку, і результат буде збережено у списку s3. Нарешті, виведений буде другий елемент списку s3)\n",
    "   \n",
    "  <li>Який очікуваний результат наступного коду?</li>\n",
    "   Відповідь(Цей код виведе значення False, оскільки рядок s1 (\"12.8\") не дорівнює рядку представлення числа 2 (\"2\").)\n",
    "    \n",
    "</ol>"
   ],
   "metadata": {
    "cell_id": "ac3f6d09159e4d2b828fdd95aae45851",
    "deepnote_cell_type": "markdown"
   }
  },
  {
   "cell_type": "markdown",
   "source": [
    "<a style='text-decoration:none;line-height:16px;display:flex;color:#5B5B62;padding:10px;justify-content:end;' href='https://deepnote.com?utm_source=created-in-deepnote-cell&projectId=89ddd344-1ef7-423f-a0be-94096fc2d85a' target=\"_blank\">\n",
    "<img alt='Created in deepnote.com' style='display:inline;max-height:16px;margin:0px;margin-right:7.5px;' src='data:image/svg+xml;base64,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' > </img>\n",
    "Created in <span style='font-weight:600;margin-left:4px;'>Deepnote</span></a>"
   ],
   "metadata": {
    "created_in_deepnote_cell": true,
    "deepnote_cell_type": "markdown"
   }
  }
 ],
 "nbformat": 4,
 "nbformat_minor": 0,
 "metadata": {
  "deepnote": {},
  "kernelspec": {
   "name": "python3",
   "language": "python",
   "display_name": "Python 3 (ipykernel)"
  },
  "language_info": {
   "name": "python",
   "version": "3.10.10",
   "mimetype": "text/x-python",
   "file_extension": ".py",
   "pygments_lexer": "ipython3",
   "codemirror_mode": {
    "name": "ipython",
    "version": 3
   },
   "nbconvert_exporter": "python"
  },
  "deepnote_notebook_id": "517697d01f214e3799b9989b700c506e",
  "deepnote_execution_queue": []
 }
}
